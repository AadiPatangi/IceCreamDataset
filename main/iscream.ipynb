{
 "cells": [
  {
   "cell_type": "code",
   "execution_count": 1,
   "id": "c6fbcb1a",
   "metadata": {
    "_cell_guid": "b1076dfc-b9ad-4769-8c92-a6c4dae69d19",
    "_uuid": "8f2839f25d086af736a60e9eeb907d3b93b6e0e5",
    "execution": {
     "iopub.execute_input": "2022-06-26T07:44:12.265069Z",
     "iopub.status.busy": "2022-06-26T07:44:12.264569Z",
     "iopub.status.idle": "2022-06-26T07:44:24.015854Z",
     "shell.execute_reply": "2022-06-26T07:44:24.014916Z"
    },
    "papermill": {
     "duration": 11.76449,
     "end_time": "2022-06-26T07:44:24.018534",
     "exception": false,
     "start_time": "2022-06-26T07:44:12.254044",
     "status": "completed"
    },
    "tags": []
   },
   "outputs": [],
   "source": [
    "\n",
    "# This Python 3 environment comes with many helpful analytics libraries installed\n",
    "# It is defined by the kaggle/python Docker image: https://github.com/kaggle/docker-python\n",
    "# For example, here's several helpful packages to load\n",
    "\n",
    "import os\n",
    "\n",
    "import numpy as np # linear algebra\n",
    "import pandas as pd # data processing, CSV file I/O (e.g. pd.read_csv)\n",
    "\n",
    "import tensorflow as tf\n",
    "import keras\n",
    "from keras.models import Sequential\n",
    "from keras.layers import Dense, Conv2D , MaxPool2D , Flatten , Dropout \n",
    "from keras.preprocessing.image import ImageDataGenerator\n",
    "from tensorflow.keras.optimizers import Adam\n",
    "\n",
    "from sklearn.metrics import classification_report,confusion_matrix\n",
    "\n",
    "import cv2\n",
    "\n",
    "import matplotlib.pyplot as plt\n",
    "import matplotlib.image as mpimg\n",
    "import seaborn as sns\n",
    "\n",
    "from PIL import Image\n",
    "from IPython.display import Image, display\n",
    "\n",
    "\n",
    "# Input data files are available in the read-only \"../input/\" directory\n",
    "# For example, running this (by clicking run or pressing Shift+Enter) will list all files under the input directory\n",
    "\n",
    "# import os\n",
    "# for dirname, _, filenames in os.walk('/kaggle/input'):\n",
    "#     for filename in filenames:\n",
    "#         print(os.path.join(dirname, filename))\n",
    "\n",
    "# You can write up to 20GB to the current directory (/kaggle/working/) that gets preserved as output when you create a version using \"Save & Run All\" \n",
    "# You can also write temporary files to /kaggle/temp/, but they won't be saved outside of the current session"
   ]
  },
  {
   "cell_type": "code",
   "execution_count": 2,
   "id": "a5f0adf0",
   "metadata": {
    "execution": {
     "iopub.execute_input": "2022-06-26T07:44:24.036994Z",
     "iopub.status.busy": "2022-06-26T07:44:24.036034Z",
     "iopub.status.idle": "2022-06-26T07:44:24.041333Z",
     "shell.execute_reply": "2022-06-26T07:44:24.040524Z"
    },
    "papermill": {
     "duration": 0.017815,
     "end_time": "2022-06-26T07:44:24.044373",
     "exception": false,
     "start_time": "2022-06-26T07:44:24.026558",
     "status": "completed"
    },
    "tags": []
   },
   "outputs": [
    {
     "name": "stdout",
     "output_type": "stream",
     "text": [
      "Tensorflow version: 2.6.4\n",
      "Keras version: 2.6.0\n"
     ]
    }
   ],
   "source": [
    "print('Tensorflow version:', tf.__version__)\n",
    "print('Keras version:', tf.keras.__version__)"
   ]
  },
  {
   "cell_type": "markdown",
   "id": "2018566d",
   "metadata": {
    "papermill": {
     "duration": 0.007276,
     "end_time": "2022-06-26T07:44:24.059563",
     "exception": false,
     "start_time": "2022-06-26T07:44:24.052287",
     "status": "completed"
    },
    "tags": []
   },
   "source": [
    "## Creating Path to Store Training/Testing Images"
   ]
  },
  {
   "cell_type": "code",
   "execution_count": 3,
   "id": "240b31d5",
   "metadata": {
    "execution": {
     "iopub.execute_input": "2022-06-26T07:44:24.076839Z",
     "iopub.status.busy": "2022-06-26T07:44:24.075849Z",
     "iopub.status.idle": "2022-06-26T07:44:24.081245Z",
     "shell.execute_reply": "2022-06-26T07:44:24.080410Z"
    },
    "papermill": {
     "duration": 0.016232,
     "end_time": "2022-06-26T07:44:24.083309",
     "exception": false,
     "start_time": "2022-06-26T07:44:24.067077",
     "status": "completed"
    },
    "tags": []
   },
   "outputs": [],
   "source": [
    "def create_dir(path):\n",
    "    if  os.path.exists(path) != True:\n",
    "        os.mkdir(path)\n",
    "        print(path+\" -> created\")\n",
    "    else:\n",
    "        print(path+\" -> exists\")"
   ]
  },
  {
   "cell_type": "code",
   "execution_count": 4,
   "id": "c102119a",
   "metadata": {
    "execution": {
     "iopub.execute_input": "2022-06-26T07:44:24.100610Z",
     "iopub.status.busy": "2022-06-26T07:44:24.099887Z",
     "iopub.status.idle": "2022-06-26T07:44:24.108042Z",
     "shell.execute_reply": "2022-06-26T07:44:24.106736Z"
    },
    "papermill": {
     "duration": 0.020695,
     "end_time": "2022-06-26T07:44:24.111638",
     "exception": false,
     "start_time": "2022-06-26T07:44:24.090943",
     "status": "completed"
    },
    "tags": []
   },
   "outputs": [
    {
     "name": "stdout",
     "output_type": "stream",
     "text": [
      "/kaggle/working/proj0622 -> created\n",
      "/kaggle/working/proj0622/train -> created\n",
      "/kaggle/working/proj0622/test -> created\n",
      "/kaggle/working/proj0622/train/bj -> created\n",
      "/kaggle/working/proj0622/train/breyers -> created\n",
      "/kaggle/working/proj0622/train/hd -> created\n",
      "/kaggle/working/proj0622/train/talenti -> created\n",
      "/kaggle/working/proj0622/test/bj -> created\n",
      "/kaggle/working/proj0622/test/breyers -> created\n",
      "/kaggle/working/proj0622/test/hd -> created\n",
      "/kaggle/working/proj0622/test/talenti -> created\n"
     ]
    }
   ],
   "source": [
    "create_dir('/kaggle/working/proj0622')\n",
    "create_dir('/kaggle/working/proj0622/train')\n",
    "create_dir('/kaggle/working/proj0622/test')\n",
    "create_dir('/kaggle/working/proj0622/train/bj')\n",
    "create_dir('/kaggle/working/proj0622/train/breyers')\n",
    "create_dir('/kaggle/working/proj0622/train/hd')\n",
    "create_dir('/kaggle/working/proj0622/train/talenti')\n",
    "create_dir('/kaggle/working/proj0622/test/bj')\n",
    "create_dir('/kaggle/working/proj0622/test/breyers')\n",
    "create_dir('/kaggle/working/proj0622/test/hd')\n",
    "create_dir('/kaggle/working/proj0622/test/talenti')\n"
   ]
  },
  {
   "cell_type": "markdown",
   "id": "b713c87f",
   "metadata": {
    "papermill": {
     "duration": 0.007394,
     "end_time": "2022-06-26T07:44:24.127192",
     "exception": false,
     "start_time": "2022-06-26T07:44:24.119798",
     "status": "completed"
    },
    "tags": []
   },
   "source": [
    "## Copying Images from Input to Train/Test Directories"
   ]
  },
  {
   "cell_type": "code",
   "execution_count": 5,
   "id": "fc27f7a2",
   "metadata": {
    "execution": {
     "iopub.execute_input": "2022-06-26T07:44:24.144774Z",
     "iopub.status.busy": "2022-06-26T07:44:24.143970Z",
     "iopub.status.idle": "2022-06-26T07:44:24.154183Z",
     "shell.execute_reply": "2022-06-26T07:44:24.153009Z"
    },
    "papermill": {
     "duration": 0.021887,
     "end_time": "2022-06-26T07:44:24.156764",
     "exception": false,
     "start_time": "2022-06-26T07:44:24.134877",
     "status": "completed"
    },
    "tags": []
   },
   "outputs": [],
   "source": [
    "import shutil\n",
    "\n",
    "src_root= '../input/ice-cream-dataset'\n",
    "dest_train = '/kaggle/working/proj0622/train'\n",
    "dest_test = '/kaggle/working/proj0622/test'\n",
    "\n",
    "def copy_images_to_work(brand, cnt):\n",
    "    \n",
    "    files = os.listdir(src_root+'/'+brand +'/images')\n",
    "    i=0\n",
    "    for f in files:\n",
    "        \n",
    "        src = src_root+'/'+brand +'/images/'+f\n",
    "        i = i + 1\n",
    "    \n",
    "        if i <= cnt :\n",
    "            \n",
    "            des = dest_train+'/'+brand+'/'+f\n",
    "     \n",
    "            if os.path.isfile(des) != True:\n",
    "                shutil.copyfile(src, des)\n",
    "                print(des+ '-> copied')\n",
    "            else:\n",
    "                print(des+' -> exists')\n",
    "                \n",
    "        else:\n",
    "            \n",
    "            des = dest_test+'/'+brand+'/'+f\n",
    "     \n",
    "            if os.path.isfile(des) != True:\n",
    "                shutil.copyfile(src, des)  \n",
    "                print(des+ '-> copied')\n",
    "            else:\n",
    "                print(des+' -> exists')\n",
    "                    "
   ]
  },
  {
   "cell_type": "code",
   "execution_count": 6,
   "id": "6c6b57c9",
   "metadata": {
    "execution": {
     "iopub.execute_input": "2022-06-26T07:44:24.174516Z",
     "iopub.status.busy": "2022-06-26T07:44:24.173755Z",
     "iopub.status.idle": "2022-06-26T07:44:25.819435Z",
     "shell.execute_reply": "2022-06-26T07:44:25.818083Z"
    },
    "papermill": {
     "duration": 1.657812,
     "end_time": "2022-06-26T07:44:25.822495",
     "exception": false,
     "start_time": "2022-06-26T07:44:24.164683",
     "status": "completed"
    },
    "tags": []
   },
   "outputs": [
    {
     "name": "stdout",
     "output_type": "stream",
     "text": [
      "/kaggle/working/proj0622/train/bj/23_bj.png-> copied\n",
      "/kaggle/working/proj0622/train/bj/44_bj.png-> copied\n",
      "/kaggle/working/proj0622/train/bj/19_bj.png-> copied\n",
      "/kaggle/working/proj0622/train/bj/17_bj.png-> copied\n",
      "/kaggle/working/proj0622/train/bj/31_bj.png-> copied\n",
      "/kaggle/working/proj0622/train/bj/7_bj.png-> copied\n",
      "/kaggle/working/proj0622/train/bj/18_bj.png-> copied\n",
      "/kaggle/working/proj0622/train/bj/2_bj.png-> copied\n",
      "/kaggle/working/proj0622/train/bj/13_bj.png-> copied\n",
      "/kaggle/working/proj0622/train/bj/6_bj.png-> copied\n",
      "/kaggle/working/proj0622/train/bj/20_bj.png-> copied\n",
      "/kaggle/working/proj0622/train/bj/10_bj.png-> copied\n",
      "/kaggle/working/proj0622/train/bj/37_bj.png-> copied\n",
      "/kaggle/working/proj0622/train/bj/25_bj.png-> copied\n",
      "/kaggle/working/proj0622/train/bj/14_bj.png-> copied\n",
      "/kaggle/working/proj0622/train/bj/51_bj.png-> copied\n",
      "/kaggle/working/proj0622/train/bj/15_bj.png-> copied\n",
      "/kaggle/working/proj0622/train/bj/3_bj.png-> copied\n",
      "/kaggle/working/proj0622/train/bj/41_bj.png-> copied\n",
      "/kaggle/working/proj0622/train/bj/54_bj.png-> copied\n",
      "/kaggle/working/proj0622/train/bj/30_bj.png-> copied\n",
      "/kaggle/working/proj0622/train/bj/0_bj.png-> copied\n",
      "/kaggle/working/proj0622/train/bj/26_bj.png-> copied\n",
      "/kaggle/working/proj0622/train/bj/34_bj.png-> copied\n",
      "/kaggle/working/proj0622/train/bj/55_bj.png-> copied\n",
      "/kaggle/working/proj0622/train/bj/1_bj.png-> copied\n",
      "/kaggle/working/proj0622/train/bj/24_bj.png-> copied\n",
      "/kaggle/working/proj0622/train/bj/33_bj.png-> copied\n",
      "/kaggle/working/proj0622/train/bj/28_bj.png-> copied\n",
      "/kaggle/working/proj0622/train/bj/56_bj.png-> copied\n",
      "/kaggle/working/proj0622/train/bj/39_bj.png-> copied\n",
      "/kaggle/working/proj0622/train/bj/8_bj.png-> copied\n",
      "/kaggle/working/proj0622/train/bj/4_bj.png-> copied\n",
      "/kaggle/working/proj0622/train/bj/50_bj.png-> copied\n",
      "/kaggle/working/proj0622/train/bj/32_bj.png-> copied\n",
      "/kaggle/working/proj0622/train/bj/48_bj.png-> copied\n",
      "/kaggle/working/proj0622/train/bj/38_bj.png-> copied\n",
      "/kaggle/working/proj0622/train/bj/40_bj.png-> copied\n",
      "/kaggle/working/proj0622/train/bj/42_bj.png-> copied\n",
      "/kaggle/working/proj0622/train/bj/47_bj.png-> copied\n",
      "/kaggle/working/proj0622/train/bj/53_bj.png-> copied\n",
      "/kaggle/working/proj0622/test/bj/46_bj.png-> copied\n",
      "/kaggle/working/proj0622/test/bj/35_bj.png-> copied\n",
      "/kaggle/working/proj0622/test/bj/5_bj.png-> copied\n",
      "/kaggle/working/proj0622/test/bj/43_bj.png-> copied\n",
      "/kaggle/working/proj0622/test/bj/45_bj.png-> copied\n",
      "/kaggle/working/proj0622/test/bj/16_bj.png-> copied\n",
      "/kaggle/working/proj0622/test/bj/11_bj.png-> copied\n",
      "/kaggle/working/proj0622/test/bj/52_bj.png-> copied\n",
      "/kaggle/working/proj0622/test/bj/21_bj.png-> copied\n",
      "/kaggle/working/proj0622/test/bj/22_bj.png-> copied\n",
      "/kaggle/working/proj0622/test/bj/29_bj.png-> copied\n",
      "/kaggle/working/proj0622/test/bj/12_bj.png-> copied\n",
      "/kaggle/working/proj0622/test/bj/27_bj.png-> copied\n",
      "/kaggle/working/proj0622/test/bj/36_bj.png-> copied\n",
      "/kaggle/working/proj0622/train/breyers/9_breyers.png-> copied\n",
      "/kaggle/working/proj0622/train/breyers/40_breyers.png-> copied\n",
      "/kaggle/working/proj0622/train/breyers/14_breyers.png-> copied\n",
      "/kaggle/working/proj0622/train/breyers/35_breyers.png-> copied\n",
      "/kaggle/working/proj0622/train/breyers/22_breyers.png-> copied\n",
      "/kaggle/working/proj0622/train/breyers/45_breyers.png-> copied\n",
      "/kaggle/working/proj0622/train/breyers/30_breyers.png-> copied\n",
      "/kaggle/working/proj0622/train/breyers/20_breyers.png-> copied\n",
      "/kaggle/working/proj0622/train/breyers/49_breyers.png-> copied\n",
      "/kaggle/working/proj0622/train/breyers/7_breyers.png-> copied\n",
      "/kaggle/working/proj0622/train/breyers/38_breyers.png-> copied\n",
      "/kaggle/working/proj0622/train/breyers/31_breyers.png-> copied\n",
      "/kaggle/working/proj0622/train/breyers/21_breyers.png-> copied\n",
      "/kaggle/working/proj0622/train/breyers/50_breyers.png-> copied\n",
      "/kaggle/working/proj0622/train/breyers/13_breyers.png-> copied\n",
      "/kaggle/working/proj0622/train/breyers/5_breyers.png-> copied\n",
      "/kaggle/working/proj0622/train/breyers/8_breyers.png-> copied\n",
      "/kaggle/working/proj0622/train/breyers/2_breyers.png-> copied\n",
      "/kaggle/working/proj0622/train/breyers/41_breyers.png-> copied\n",
      "/kaggle/working/proj0622/train/breyers/24_breyers.png-> copied\n",
      "/kaggle/working/proj0622/train/breyers/66_breyers.png-> copied\n",
      "/kaggle/working/proj0622/train/breyers/23_breyers.png-> copied\n",
      "/kaggle/working/proj0622/train/breyers/44_breyers.png-> copied\n",
      "/kaggle/working/proj0622/train/breyers/43_breyers.png-> copied\n",
      "/kaggle/working/proj0622/train/breyers/12_breyers.png-> copied\n",
      "/kaggle/working/proj0622/train/breyers/18_breyers.png-> copied\n",
      "/kaggle/working/proj0622/train/breyers/34_breyers.png-> copied\n",
      "/kaggle/working/proj0622/train/breyers/27_breyers.png-> copied\n",
      "/kaggle/working/proj0622/train/breyers/19_breyers.png-> copied\n",
      "/kaggle/working/proj0622/train/breyers/60_breyers.png-> copied\n",
      "/kaggle/working/proj0622/train/breyers/65_breyers.png-> copied\n",
      "/kaggle/working/proj0622/train/breyers/52_breyers.png-> copied\n",
      "/kaggle/working/proj0622/train/breyers/37_breyers.png-> copied\n",
      "/kaggle/working/proj0622/train/breyers/4_breyers.png-> copied\n",
      "/kaggle/working/proj0622/train/breyers/10_breyers.png-> copied\n",
      "/kaggle/working/proj0622/train/breyers/48_breyers.png-> copied\n",
      "/kaggle/working/proj0622/train/breyers/61_breyers.png-> copied\n",
      "/kaggle/working/proj0622/train/breyers/25_breyers.png-> copied\n",
      "/kaggle/working/proj0622/train/breyers/68_breyers.png-> copied\n",
      "/kaggle/working/proj0622/train/breyers/54_breyers.png-> copied\n",
      "/kaggle/working/proj0622/train/breyers/55_breyers.png-> copied\n",
      "/kaggle/working/proj0622/train/breyers/56_breyers.png-> copied\n",
      "/kaggle/working/proj0622/train/breyers/64_breyers.png-> copied\n",
      "/kaggle/working/proj0622/train/breyers/32_breyers.png-> copied\n",
      "/kaggle/working/proj0622/train/breyers/51_breyers.png-> copied\n",
      "/kaggle/working/proj0622/train/breyers/62_breyers.png-> copied\n",
      "/kaggle/working/proj0622/train/breyers/58_breyers.png-> copied\n",
      "/kaggle/working/proj0622/train/breyers/63_breyers.png-> copied\n",
      "/kaggle/working/proj0622/train/breyers/26_breyers.png-> copied\n",
      "/kaggle/working/proj0622/train/breyers/11_breyers.png-> copied\n",
      "/kaggle/working/proj0622/train/breyers/59_breyers.png-> copied\n",
      "/kaggle/working/proj0622/test/breyers/33_breyers.png-> copied\n",
      "/kaggle/working/proj0622/test/breyers/67_breyers.png-> copied\n",
      "/kaggle/working/proj0622/test/breyers/29_breyers.png-> copied\n",
      "/kaggle/working/proj0622/test/breyers/39_breyers.png-> copied\n",
      "/kaggle/working/proj0622/test/breyers/3_breyers.png-> copied\n",
      "/kaggle/working/proj0622/test/breyers/16_breyers.png-> copied\n",
      "/kaggle/working/proj0622/test/breyers/17_breyers.png-> copied\n",
      "/kaggle/working/proj0622/test/breyers/15_breyers.png-> copied\n",
      "/kaggle/working/proj0622/test/breyers/0_breyers.png-> copied\n",
      "/kaggle/working/proj0622/test/breyers/46_breyers.png-> copied\n",
      "/kaggle/working/proj0622/test/breyers/6_breyers.png-> copied\n",
      "/kaggle/working/proj0622/test/breyers/47_breyers.png-> copied\n",
      "/kaggle/working/proj0622/test/breyers/36_breyers.png-> copied\n",
      "/kaggle/working/proj0622/test/breyers/28_breyers.png-> copied\n",
      "/kaggle/working/proj0622/test/breyers/57_breyers.png-> copied\n",
      "/kaggle/working/proj0622/test/breyers/42_breyers.png-> copied\n",
      "/kaggle/working/proj0622/test/breyers/53_breyers.png-> copied\n",
      "/kaggle/working/proj0622/test/breyers/1_breyers.png-> copied\n",
      "/kaggle/working/proj0622/train/hd/50_hd.png-> copied\n",
      "/kaggle/working/proj0622/train/hd/37_hd.png-> copied\n",
      "/kaggle/working/proj0622/train/hd/67_hd.png-> copied\n",
      "/kaggle/working/proj0622/train/hd/42_hd.png-> copied\n",
      "/kaggle/working/proj0622/train/hd/26_hd.png-> copied\n",
      "/kaggle/working/proj0622/train/hd/62_hd.png-> copied\n",
      "/kaggle/working/proj0622/train/hd/36_hd.png-> copied\n",
      "/kaggle/working/proj0622/train/hd/16_hd.png-> copied\n",
      "/kaggle/working/proj0622/train/hd/14_hd.png-> copied\n",
      "/kaggle/working/proj0622/train/hd/22_hd.png-> copied\n",
      "/kaggle/working/proj0622/train/hd/61_hd.png-> copied\n",
      "/kaggle/working/proj0622/train/hd/3_hd.png-> copied\n",
      "/kaggle/working/proj0622/train/hd/34_hd.png-> copied\n",
      "/kaggle/working/proj0622/train/hd/49_hd.png-> copied\n",
      "/kaggle/working/proj0622/train/hd/27_hd.png-> copied\n",
      "/kaggle/working/proj0622/train/hd/4_hd.png-> copied\n",
      "/kaggle/working/proj0622/train/hd/63_hd.png-> copied\n",
      "/kaggle/working/proj0622/train/hd/53_hd.png-> copied\n",
      "/kaggle/working/proj0622/train/hd/0_hd.png-> copied\n",
      "/kaggle/working/proj0622/train/hd/28_hd.png-> copied\n",
      "/kaggle/working/proj0622/train/hd/30_hd.png-> copied\n",
      "/kaggle/working/proj0622/train/hd/6_hd.png-> copied\n",
      "/kaggle/working/proj0622/train/hd/24_hd.png-> copied\n",
      "/kaggle/working/proj0622/train/hd/64_hd.png-> copied\n",
      "/kaggle/working/proj0622/train/hd/60_hd.png-> copied\n",
      "/kaggle/working/proj0622/train/hd/11_hd.png-> copied\n",
      "/kaggle/working/proj0622/train/hd/43_hd.png-> copied\n",
      "/kaggle/working/proj0622/train/hd/38_hd.png-> copied\n",
      "/kaggle/working/proj0622/train/hd/59_hd.png-> copied\n",
      "/kaggle/working/proj0622/train/hd/15_hd.png-> copied\n",
      "/kaggle/working/proj0622/train/hd/45_hd.png-> copied\n",
      "/kaggle/working/proj0622/train/hd/32_hd.png-> copied\n",
      "/kaggle/working/proj0622/train/hd/23_hd.png-> copied\n",
      "/kaggle/working/proj0622/train/hd/57_hd.png-> copied\n",
      "/kaggle/working/proj0622/train/hd/18_hd.png-> copied\n",
      "/kaggle/working/proj0622/train/hd/66_hd.png-> copied\n",
      "/kaggle/working/proj0622/train/hd/55_hd.png-> copied\n",
      "/kaggle/working/proj0622/train/hd/69_hd.png-> copied\n",
      "/kaggle/working/proj0622/train/hd/12_hd.png-> copied\n",
      "/kaggle/working/proj0622/train/hd/47_hd.png-> copied\n",
      "/kaggle/working/proj0622/train/hd/52_hd.png-> copied\n",
      "/kaggle/working/proj0622/train/hd/7_hd.png-> copied\n",
      "/kaggle/working/proj0622/train/hd/68_hd.png-> copied\n",
      "/kaggle/working/proj0622/train/hd/1_hd.png-> copied\n",
      "/kaggle/working/proj0622/train/hd/51_hd.png-> copied\n",
      "/kaggle/working/proj0622/train/hd/65_hd.png-> copied\n",
      "/kaggle/working/proj0622/train/hd/33_hd.png-> copied\n",
      "/kaggle/working/proj0622/train/hd/21_hd.png-> copied\n",
      "/kaggle/working/proj0622/train/hd/29_hd.png-> copied\n",
      "/kaggle/working/proj0622/train/hd/48_hd.png-> copied\n",
      "/kaggle/working/proj0622/train/hd/31_hd.png-> copied\n",
      "/kaggle/working/proj0622/test/hd/19_hd.png-> copied\n",
      "/kaggle/working/proj0622/test/hd/13_hd.png-> copied\n",
      "/kaggle/working/proj0622/test/hd/20_hd.png-> copied\n",
      "/kaggle/working/proj0622/test/hd/41_hd.png-> copied\n",
      "/kaggle/working/proj0622/test/hd/17_hd.png-> copied\n",
      "/kaggle/working/proj0622/test/hd/44_hd.png-> copied\n",
      "/kaggle/working/proj0622/test/hd/9_hd.png-> copied\n",
      "/kaggle/working/proj0622/test/hd/5_hd.png-> copied\n",
      "/kaggle/working/proj0622/test/hd/25_hd.png-> copied\n",
      "/kaggle/working/proj0622/test/hd/46_hd.png-> copied\n",
      "/kaggle/working/proj0622/test/hd/54_hd.png-> copied\n",
      "/kaggle/working/proj0622/test/hd/8_hd.png-> copied\n",
      "/kaggle/working/proj0622/test/hd/58_hd.png-> copied\n",
      "/kaggle/working/proj0622/test/hd/2_hd.png-> copied\n",
      "/kaggle/working/proj0622/test/hd/56_hd.png-> copied\n",
      "/kaggle/working/proj0622/test/hd/35_hd.png-> copied\n",
      "/kaggle/working/proj0622/test/hd/39_hd.png-> copied\n",
      "/kaggle/working/proj0622/test/hd/10_hd.png-> copied\n",
      "/kaggle/working/proj0622/test/hd/40_hd.png-> copied\n",
      "/kaggle/working/proj0622/train/talenti/7_talenti.png-> copied\n",
      "/kaggle/working/proj0622/train/talenti/38_talenti.png-> copied\n",
      "/kaggle/working/proj0622/train/talenti/36_talenti.png-> copied\n",
      "/kaggle/working/proj0622/train/talenti/9_talenti.png-> copied\n",
      "/kaggle/working/proj0622/train/talenti/43_talenti.png-> copied\n",
      "/kaggle/working/proj0622/train/talenti/39_talenti.png-> copied\n",
      "/kaggle/working/proj0622/train/talenti/33_talenti.png-> copied\n",
      "/kaggle/working/proj0622/train/talenti/25_talenti.png-> copied\n",
      "/kaggle/working/proj0622/train/talenti/3_talenti.png-> copied\n",
      "/kaggle/working/proj0622/train/talenti/28_talenti.png-> copied\n",
      "/kaggle/working/proj0622/train/talenti/11_talenti.png-> copied\n",
      "/kaggle/working/proj0622/train/talenti/19_talenti.png-> copied\n",
      "/kaggle/working/proj0622/train/talenti/13_talenti.png-> copied\n",
      "/kaggle/working/proj0622/train/talenti/30_talenti.png-> copied\n",
      "/kaggle/working/proj0622/train/talenti/31_talenti.png-> copied\n",
      "/kaggle/working/proj0622/train/talenti/23_talenti.png-> copied\n",
      "/kaggle/working/proj0622/train/talenti/44_talenti.png-> copied\n",
      "/kaggle/working/proj0622/train/talenti/35_talenti.png-> copied\n",
      "/kaggle/working/proj0622/train/talenti/26_talenti.png-> copied\n",
      "/kaggle/working/proj0622/train/talenti/22_talenti.png-> copied\n",
      "/kaggle/working/proj0622/train/talenti/4_talenti.png-> copied\n",
      "/kaggle/working/proj0622/train/talenti/42_talenti.png-> copied\n",
      "/kaggle/working/proj0622/train/talenti/14_talenti.png-> copied\n",
      "/kaggle/working/proj0622/train/talenti/41_talenti.png-> copied\n",
      "/kaggle/working/proj0622/train/talenti/12_talenti.png-> copied\n",
      "/kaggle/working/proj0622/train/talenti/34_talenti.png-> copied\n",
      "/kaggle/working/proj0622/train/talenti/8_talenti.png-> copied\n",
      "/kaggle/working/proj0622/train/talenti/6_talenti.png-> copied\n",
      "/kaggle/working/proj0622/train/talenti/15_talenti.png-> copied\n",
      "/kaggle/working/proj0622/train/talenti/10_talenti.png-> copied\n",
      "/kaggle/working/proj0622/train/talenti/32_talenti.png-> copied\n",
      "/kaggle/working/proj0622/test/talenti/1_talenti.png-> copied\n",
      "/kaggle/working/proj0622/test/talenti/37_talenti.png-> copied\n",
      "/kaggle/working/proj0622/test/talenti/18_talenti.png-> copied\n",
      "/kaggle/working/proj0622/test/talenti/40_talenti.png-> copied\n",
      "/kaggle/working/proj0622/test/talenti/5_talenti.png-> copied\n",
      "/kaggle/working/proj0622/test/talenti/24_talenti.png-> copied\n",
      "/kaggle/working/proj0622/test/talenti/21_talenti.png-> copied\n",
      "/kaggle/working/proj0622/test/talenti/0_talenti.png-> copied\n",
      "/kaggle/working/proj0622/test/talenti/29_talenti.png-> copied\n",
      "/kaggle/working/proj0622/test/talenti/2_talenti.png-> copied\n",
      "/kaggle/working/proj0622/test/talenti/17_talenti.png-> copied\n",
      "/kaggle/working/proj0622/test/talenti/16_talenti.png-> copied\n",
      "/kaggle/working/proj0622/test/talenti/27_talenti.png-> copied\n",
      "/kaggle/working/proj0622/test/talenti/20_talenti.png-> copied\n"
     ]
    }
   ],
   "source": [
    "copy_images_to_work('bj',41)\n",
    "copy_images_to_work('breyers',51)\n",
    "copy_images_to_work('hd',51)\n",
    "copy_images_to_work('talenti',31)"
   ]
  },
  {
   "cell_type": "markdown",
   "id": "cb726466",
   "metadata": {
    "papermill": {
     "duration": 0.009153,
     "end_time": "2022-06-26T07:44:25.841664",
     "exception": false,
     "start_time": "2022-06-26T07:44:25.832511",
     "status": "completed"
    },
    "tags": []
   },
   "source": [
    "## Preparing Images for model (deprecated)"
   ]
  },
  {
   "cell_type": "code",
   "execution_count": 7,
   "id": "c201728f",
   "metadata": {
    "execution": {
     "iopub.execute_input": "2022-06-26T07:44:25.863269Z",
     "iopub.status.busy": "2022-06-26T07:44:25.862850Z",
     "iopub.status.idle": "2022-06-26T07:44:25.870936Z",
     "shell.execute_reply": "2022-06-26T07:44:25.869952Z"
    },
    "papermill": {
     "duration": 0.021761,
     "end_time": "2022-06-26T07:44:25.873165",
     "exception": false,
     "start_time": "2022-06-26T07:44:25.851404",
     "status": "completed"
    },
    "tags": []
   },
   "outputs": [],
   "source": [
    "def create_images(target_dir, source_arr):\n",
    "    for i in range(0,len(source_arr)):\n",
    "    \n",
    "        image = cv.imread(source_arr[i])\n",
    "        gray = cv.cvtColor(image, cv.COLOR_BGR2GRAY)\n",
    "    \n",
    "        reshape_image = cv.resize(gray, (32, 32),interpolation = cv.INTER_NEAREST)\n",
    "    \n",
    "    \n",
    "        head, tail = os.path.split(source_arr[i])\n",
    "        imgfile = target_dir + \"/\" + tail\n",
    "            \n",
    "        if os.path.isfile(imgfile) != True:\n",
    "            \n",
    "            cv.imwrite(imgfile,reshape_image)                \n",
    "            print(\"created: \"+ imgfile)\n",
    "            \n",
    "        else: \n",
    "            print(\"Exists: \"+ imgfile)\n",
    "    "
   ]
  },
  {
   "cell_type": "code",
   "execution_count": 8,
   "id": "d6089994",
   "metadata": {
    "execution": {
     "iopub.execute_input": "2022-06-26T07:44:25.894941Z",
     "iopub.status.busy": "2022-06-26T07:44:25.894117Z",
     "iopub.status.idle": "2022-06-26T07:44:26.129062Z",
     "shell.execute_reply": "2022-06-26T07:44:26.128197Z"
    },
    "papermill": {
     "duration": 0.249024,
     "end_time": "2022-06-26T07:44:26.131941",
     "exception": false,
     "start_time": "2022-06-26T07:44:25.882917",
     "status": "completed"
    },
    "tags": []
   },
   "outputs": [
    {
     "data": {
      "image/png": "[encoded data removed]",
      "text/plain": [
       "<Figure size 432x288 with 1 Axes>"
      ]
     },
     "metadata": {
      "needs_background": "light"
     },
     "output_type": "display_data"
    }
   ],
   "source": [
    "img = mpimg.imread('/kaggle/working/proj0622/train/bj/13_bj.png')\n",
    "\n",
    "imgplot = plt.imshow(img)\n",
    "plt.show()"
   ]
  },
  {
   "cell_type": "markdown",
   "id": "67ee896d",
   "metadata": {
    "papermill": {
     "duration": 0.010662,
     "end_time": "2022-06-26T07:44:26.153053",
     "exception": false,
     "start_time": "2022-06-26T07:44:26.142391",
     "status": "completed"
    },
    "tags": []
   },
   "source": [
    "## Asigning labels to training/testing images"
   ]
  },
  {
   "cell_type": "code",
   "execution_count": 9,
   "id": "c025519d",
   "metadata": {
    "execution": {
     "iopub.execute_input": "2022-06-26T07:44:26.176096Z",
     "iopub.status.busy": "2022-06-26T07:44:26.175348Z",
     "iopub.status.idle": "2022-06-26T07:44:26.184526Z",
     "shell.execute_reply": "2022-06-26T07:44:26.183787Z"
    },
    "papermill": {
     "duration": 0.02335,
     "end_time": "2022-06-26T07:44:26.186988",
     "exception": false,
     "start_time": "2022-06-26T07:44:26.163638",
     "status": "completed"
    },
    "tags": []
   },
   "outputs": [],
   "source": [
    "LABELS = ['bj','breyers','hd','talenti']\n",
    "IMG_SIZE = 32\n",
    "\n",
    "IMG_HEIGHT = IMG_SIZE\n",
    "IMG_WIDTH  = IMG_SIZE\n",
    "\n",
    "def get_data(data_dir):\n",
    "    data = []\n",
    "    clas = []\n",
    "    for label in LABELS: \n",
    "        path = os.path.join(data_dir, label)\n",
    "      \n",
    "        class_num = LABELS.index(label)\n",
    "        for img in os.listdir(path):\n",
    "            try:\n",
    "                img_arr = cv2.imread(os.path.join(path, img))[...,::-1] #convert BGR to RGB format\n",
    "                resized_arr = cv2.resize(img_arr, (IMG_HEIGHT, IMG_WIDTH)) # Reshaping images to preferred size\n",
    "                data.append(resized_arr)\n",
    "                clas.append(class_num)\n",
    "            except Exception as e:\n",
    "                print(e)\n",
    "    #return np.array(data,dtype = \"object\")\n",
    "    return data,clas"
   ]
  },
  {
   "cell_type": "code",
   "execution_count": 10,
   "id": "55272a24",
   "metadata": {
    "execution": {
     "iopub.execute_input": "2022-06-26T07:44:26.210733Z",
     "iopub.status.busy": "2022-06-26T07:44:26.209984Z",
     "iopub.status.idle": "2022-06-26T07:44:27.623395Z",
     "shell.execute_reply": "2022-06-26T07:44:27.622386Z"
    },
    "papermill": {
     "duration": 1.428678,
     "end_time": "2022-06-26T07:44:27.625999",
     "exception": false,
     "start_time": "2022-06-26T07:44:26.197321",
     "status": "completed"
    },
    "tags": []
   },
   "outputs": [],
   "source": [
    "img_train,clas_train = get_data('/kaggle/working/proj0622/train')"
   ]
  },
  {
   "cell_type": "code",
   "execution_count": 11,
   "id": "a65896cd",
   "metadata": {
    "execution": {
     "iopub.execute_input": "2022-06-26T07:44:27.648547Z",
     "iopub.status.busy": "2022-06-26T07:44:27.648170Z",
     "iopub.status.idle": "2022-06-26T07:44:28.251552Z",
     "shell.execute_reply": "2022-06-26T07:44:28.249926Z"
    },
    "papermill": {
     "duration": 0.617992,
     "end_time": "2022-06-26T07:44:28.254555",
     "exception": false,
     "start_time": "2022-06-26T07:44:27.636563",
     "status": "completed"
    },
    "tags": []
   },
   "outputs": [],
   "source": [
    "img_test,clas_test = get_data('/kaggle/working/proj0622/test')"
   ]
  },
  {
   "cell_type": "code",
   "execution_count": 12,
   "id": "9bf02c91",
   "metadata": {
    "execution": {
     "iopub.execute_input": "2022-06-26T07:44:28.278451Z",
     "iopub.status.busy": "2022-06-26T07:44:28.277415Z",
     "iopub.status.idle": "2022-06-26T07:44:28.460337Z",
     "shell.execute_reply": "2022-06-26T07:44:28.458935Z"
    },
    "papermill": {
     "duration": 0.197983,
     "end_time": "2022-06-26T07:44:28.463330",
     "exception": false,
     "start_time": "2022-06-26T07:44:28.265347",
     "status": "completed"
    },
    "tags": []
   },
   "outputs": [
    {
     "name": "stdout",
     "output_type": "stream",
     "text": [
      "(32, 32, 3)\n"
     ]
    },
    {
     "data": {
      "image/png": "[encoded data removed]",
      "text/plain": [
       "<Figure size 432x288 with 1 Axes>"
      ]
     },
     "metadata": {
      "needs_background": "light"
     },
     "output_type": "display_data"
    }
   ],
   "source": [
    "data = np.asarray(img_train[10])\n",
    "print(data.shape)\n",
    "imgplot = plt.imshow(data)\n",
    "plt.show()"
   ]
  },
  {
   "cell_type": "code",
   "execution_count": 13,
   "id": "f0211bec",
   "metadata": {
    "execution": {
     "iopub.execute_input": "2022-06-26T07:44:28.487240Z",
     "iopub.status.busy": "2022-06-26T07:44:28.486245Z",
     "iopub.status.idle": "2022-06-26T07:44:28.664985Z",
     "shell.execute_reply": "2022-06-26T07:44:28.663904Z"
    },
    "papermill": {
     "duration": 0.192716,
     "end_time": "2022-06-26T07:44:28.667118",
     "exception": false,
     "start_time": "2022-06-26T07:44:28.474402",
     "status": "completed"
    },
    "tags": []
   },
   "outputs": [
    {
     "name": "stdout",
     "output_type": "stream",
     "text": [
      "(32, 32, 3)\n"
     ]
    },
    {
     "data": {
      "image/png": "[encoded data removed]",
      "text/plain": [
       "<Figure size 432x288 with 1 Axes>"
      ]
     },
     "metadata": {
      "needs_background": "light"
     },
     "output_type": "display_data"
    }
   ],
   "source": [
    "data = np.asarray(img_test[10])\n",
    "print(data.shape)\n",
    "imgplot = plt.imshow(data)\n",
    "plt.show()"
   ]
  },
  {
   "cell_type": "markdown",
   "id": "afe6a399",
   "metadata": {
    "papermill": {
     "duration": 0.010656,
     "end_time": "2022-06-26T07:44:28.688717",
     "exception": false,
     "start_time": "2022-06-26T07:44:28.678061",
     "status": "completed"
    },
    "tags": []
   },
   "source": [
    "## Preparing images for model input"
   ]
  },
  {
   "cell_type": "code",
   "execution_count": 14,
   "id": "c53752e0",
   "metadata": {
    "execution": {
     "iopub.execute_input": "2022-06-26T07:44:28.713450Z",
     "iopub.status.busy": "2022-06-26T07:44:28.712436Z",
     "iopub.status.idle": "2022-06-26T07:44:28.719833Z",
     "shell.execute_reply": "2022-06-26T07:44:28.718972Z"
    },
    "papermill": {
     "duration": 0.022145,
     "end_time": "2022-06-26T07:44:28.721994",
     "exception": false,
     "start_time": "2022-06-26T07:44:28.699849",
     "status": "completed"
    },
    "tags": []
   },
   "outputs": [],
   "source": [
    "img_train  = np.asarray(img_train)\n",
    "clas_train = np.asarray(clas_train)\n",
    "img_test   = np.asarray(img_test)\n",
    "clas_test  = np.asarray(clas_test)"
   ]
  },
  {
   "cell_type": "code",
   "execution_count": 15,
   "id": "c9513724",
   "metadata": {
    "execution": {
     "iopub.execute_input": "2022-06-26T07:44:28.746365Z",
     "iopub.status.busy": "2022-06-26T07:44:28.745402Z",
     "iopub.status.idle": "2022-06-26T07:44:28.753991Z",
     "shell.execute_reply": "2022-06-26T07:44:28.752889Z"
    },
    "papermill": {
     "duration": 0.023357,
     "end_time": "2022-06-26T07:44:28.756428",
     "exception": false,
     "start_time": "2022-06-26T07:44:28.733071",
     "status": "completed"
    },
    "tags": []
   },
   "outputs": [],
   "source": [
    "img_train = img_train / 255.0\n",
    "img_test = img_test / 255.0"
   ]
  },
  {
   "cell_type": "code",
   "execution_count": 16,
   "id": "ee602214",
   "metadata": {
    "execution": {
     "iopub.execute_input": "2022-06-26T07:44:28.780265Z",
     "iopub.status.busy": "2022-06-26T07:44:28.779541Z",
     "iopub.status.idle": "2022-06-26T07:44:28.785366Z",
     "shell.execute_reply": "2022-06-26T07:44:28.784315Z"
    },
    "papermill": {
     "duration": 0.020423,
     "end_time": "2022-06-26T07:44:28.787901",
     "exception": false,
     "start_time": "2022-06-26T07:44:28.767478",
     "status": "completed"
    },
    "tags": []
   },
   "outputs": [
    {
     "name": "stdout",
     "output_type": "stream",
     "text": [
      "float64\n",
      "float64\n"
     ]
    }
   ],
   "source": [
    "print(img_train.dtype)\n",
    "print(img_test.dtype)"
   ]
  },
  {
   "cell_type": "markdown",
   "id": "50901e47",
   "metadata": {
    "papermill": {
     "duration": 0.011455,
     "end_time": "2022-06-26T07:44:28.810618",
     "exception": false,
     "start_time": "2022-06-26T07:44:28.799163",
     "status": "completed"
    },
    "tags": []
   },
   "source": [
    "## Convolutional Neural Network model training"
   ]
  },
  {
   "cell_type": "code",
   "execution_count": 17,
   "id": "5994c315",
   "metadata": {
    "execution": {
     "iopub.execute_input": "2022-06-26T07:44:28.834636Z",
     "iopub.status.busy": "2022-06-26T07:44:28.834254Z",
     "iopub.status.idle": "2022-06-26T07:44:30.655284Z",
     "shell.execute_reply": "2022-06-26T07:44:30.653802Z"
    },
    "papermill": {
     "duration": 1.836651,
     "end_time": "2022-06-26T07:44:30.658205",
     "exception": false,
     "start_time": "2022-06-26T07:44:28.821554",
     "status": "completed"
    },
    "tags": []
   },
   "outputs": [
    {
     "name": "stderr",
     "output_type": "stream",
     "text": [
      "2022-06-26 07:44:28.883634: I tensorflow/core/common_runtime/process_util.cc:146] Creating new thread pool with default inter op setting: 2. Tune using inter_op_parallelism_threads for best performance.\n",
      "2022-06-26 07:44:29.052610: I tensorflow/compiler/mlir/mlir_graph_optimization_pass.cc:185] None of the MLIR Optimization Passes are enabled (registered 2)\n"
     ]
    },
    {
     "name": "stdout",
     "output_type": "stream",
     "text": [
      "Epoch 1/10\n",
      "6/6 [==============================] - 1s 50ms/step - loss: 4.1338 - accuracy: 0.3736 - val_loss: 1.2621 - val_accuracy: 0.6923\n",
      "Epoch 2/10\n",
      "6/6 [==============================] - 0s 14ms/step - loss: 1.1830 - accuracy: 0.6667 - val_loss: 0.7377 - val_accuracy: 0.7231\n",
      "Epoch 3/10\n",
      "6/6 [==============================] - 0s 14ms/step - loss: 0.5747 - accuracy: 0.7874 - val_loss: 0.2079 - val_accuracy: 0.8923\n",
      "Epoch 4/10\n",
      "6/6 [==============================] - 0s 14ms/step - loss: 0.1267 - accuracy: 0.9713 - val_loss: 0.0909 - val_accuracy: 0.9692\n",
      "Epoch 5/10\n",
      "6/6 [==============================] - 0s 14ms/step - loss: 0.1379 - accuracy: 0.9655 - val_loss: 0.0307 - val_accuracy: 1.0000\n",
      "Epoch 6/10\n",
      "6/6 [==============================] - 0s 15ms/step - loss: 0.0430 - accuracy: 0.9885 - val_loss: 0.1454 - val_accuracy: 0.9231\n",
      "Epoch 7/10\n",
      "6/6 [==============================] - 0s 14ms/step - loss: 0.0258 - accuracy: 1.0000 - val_loss: 0.1661 - val_accuracy: 0.9231\n",
      "Epoch 8/10\n",
      "6/6 [==============================] - 0s 14ms/step - loss: 0.0233 - accuracy: 1.0000 - val_loss: 0.1355 - val_accuracy: 0.9538\n",
      "Epoch 9/10\n",
      "6/6 [==============================] - 0s 14ms/step - loss: 0.0147 - accuracy: 1.0000 - val_loss: 0.1144 - val_accuracy: 0.9538\n",
      "Epoch 10/10\n",
      "6/6 [==============================] - 0s 13ms/step - loss: 0.0107 - accuracy: 1.0000 - val_loss: 0.1006 - val_accuracy: 0.9538\n"
     ]
    }
   ],
   "source": [
    "\n",
    "def make_model():\n",
    "      model = keras.Sequential([\n",
    "         keras.layers.Flatten(input_shape=(IMG_HEIGHT, IMG_WIDTH, 3)),\n",
    "         keras.layers.Dense(512, activation='relu'),\n",
    "         keras.layers.Dense(4)\n",
    "      ])\n",
    "      model.compile(optimizer='adam',\n",
    "                   loss=tf.keras.losses.SparseCategoricalCrossentropy(from_logits=True),\n",
    "                   metrics=['accuracy'])\n",
    "      return model\n",
    "\n",
    "model=make_model()\n",
    "#history = model.fit(istrain, isclas, epochs=10)\n",
    "history = model.fit(img_train,clas_train,epochs = 10 , validation_data = (img_test, clas_test))"
   ]
  },
  {
   "cell_type": "markdown",
   "id": "08403af0",
   "metadata": {
    "papermill": {
     "duration": 0.012585,
     "end_time": "2022-06-26T07:44:30.683632",
     "exception": false,
     "start_time": "2022-06-26T07:44:30.671047",
     "status": "completed"
    },
    "tags": []
   },
   "source": [
    "## Plotting Results"
   ]
  },
  {
   "cell_type": "code",
   "execution_count": 18,
   "id": "08f3f3f1",
   "metadata": {
    "execution": {
     "iopub.execute_input": "2022-06-26T07:44:30.711527Z",
     "iopub.status.busy": "2022-06-26T07:44:30.711146Z",
     "iopub.status.idle": "2022-06-26T07:44:31.042240Z",
     "shell.execute_reply": "2022-06-26T07:44:31.041019Z"
    },
    "papermill": {
     "duration": 0.348469,
     "end_time": "2022-06-26T07:44:31.044991",
     "exception": false,
     "start_time": "2022-06-26T07:44:30.696522",
     "status": "completed"
    },
    "tags": []
   },
   "outputs": [
    {
     "data": {
      "image/png": "[encoded data removed]",
      "text/plain": [
       "<Figure size 1080x1080 with 2 Axes>"
      ]
     },
     "metadata": {
      "needs_background": "light"
     },
     "output_type": "display_data"
    }
   ],
   "source": [
    "acc = history.history['accuracy']\n",
    "val_acc = history.history['val_accuracy']\n",
    "loss = history.history['loss']\n",
    "val_loss = history.history['val_loss']\n",
    "\n",
    "epochs_range = range(10)\n",
    "\n",
    "plt.figure(figsize=(15, 15))\n",
    "plt.subplot(2, 2, 1)\n",
    "plt.plot(epochs_range, acc, label='Training Accuracy')\n",
    "plt.plot(epochs_range, val_acc, label='Validation Accuracy')\n",
    "plt.legend(loc='lower right')\n",
    "plt.title('Training and Validation Accuracy')\n",
    "\n",
    "plt.subplot(2, 2, 2)\n",
    "plt.plot(epochs_range, loss, label='Training Loss')\n",
    "plt.plot(epochs_range, val_loss, label='Validation Loss')\n",
    "plt.legend(loc='upper right')\n",
    "plt.title('Training and Validation Loss')\n",
    "\n",
    "plt.show()\n",
    "\n",
    "\n"
   ]
  },
  {
   "cell_type": "markdown",
   "id": "fea356c7",
   "metadata": {
    "papermill": {
     "duration": 0.013201,
     "end_time": "2022-06-26T07:44:31.072452",
     "exception": false,
     "start_time": "2022-06-26T07:44:31.059251",
     "status": "completed"
    },
    "tags": []
   },
   "source": [
    "## Predicting pre processed image type"
   ]
  },
  {
   "cell_type": "code",
   "execution_count": 19,
   "id": "2035ab7b",
   "metadata": {
    "execution": {
     "iopub.execute_input": "2022-06-26T07:44:31.101439Z",
     "iopub.status.busy": "2022-06-26T07:44:31.101041Z",
     "iopub.status.idle": "2022-06-26T07:44:31.411856Z",
     "shell.execute_reply": "2022-06-26T07:44:31.410862Z"
    },
    "papermill": {
     "duration": 0.328286,
     "end_time": "2022-06-26T07:44:31.414348",
     "exception": false,
     "start_time": "2022-06-26T07:44:31.086062",
     "status": "completed"
    },
    "tags": []
   },
   "outputs": [
    {
     "name": "stdout",
     "output_type": "stream",
     "text": [
      "(32, 32, 3)\n"
     ]
    },
    {
     "data": {
      "image/png": "[encoded data removed]",
      "text/plain": [
       "<Figure size 432x288 with 1 Axes>"
      ]
     },
     "metadata": {
      "needs_background": "light"
     },
     "output_type": "display_data"
    }
   ],
   "source": [
    "test_img_index = 20\n",
    "img_to_predict = img_test[test_img_index]\n",
    "\n",
    "flatten_image = img_to_predict.reshape(-1, IMG_HEIGHT*IMG_WIDTH*3)\n",
    "\n",
    "pred_dist = model.predict(flatten_image)\n",
    "\n",
    "pred_index = np.argmax(pred_dist[0])\n",
    "pred_label = LABELS[pred_index]\n",
    "data = np.asarray(img_test[test_img_index])\n",
    "print(data.shape)\n",
    "imgplot = plt.imshow(data)\n",
    "plt.title(pred_label)\n",
    "plt.show()\n"
   ]
  },
  {
   "cell_type": "code",
   "execution_count": 20,
   "id": "3daea663",
   "metadata": {
    "execution": {
     "iopub.execute_input": "2022-06-26T07:44:31.444073Z",
     "iopub.status.busy": "2022-06-26T07:44:31.443691Z",
     "iopub.status.idle": "2022-06-26T07:44:31.448996Z",
     "shell.execute_reply": "2022-06-26T07:44:31.447893Z"
    },
    "papermill": {
     "duration": 0.023235,
     "end_time": "2022-06-26T07:44:31.451503",
     "exception": false,
     "start_time": "2022-06-26T07:44:31.428268",
     "status": "completed"
    },
    "tags": []
   },
   "outputs": [
    {
     "name": "stdout",
     "output_type": "stream",
     "text": [
      "Done!!\n"
     ]
    }
   ],
   "source": [
    "print('Done!!')"
   ]
  }
 ],
 "metadata": {
  "kernelspec": {
   "display_name": "Python 3",
   "language": "python",
   "name": "python3"
  },
  "language_info": {
   "codemirror_mode": {
    "name": "ipython",
    "version": 3
   },
   "file_extension": ".py",
   "mimetype": "text/x-python",
   "name": "python",
   "nbconvert_exporter": "python",
   "pygments_lexer": "ipython3",
   "version": "3.7.12"
  },
  "papermill": {
   "default_parameters": {},
   "duration": 32.765639,
   "end_time": "2022-06-26T07:44:34.656424",
   "environment_variables": {},
   "exception": null,
   "input_path": "__notebook__.ipynb",
   "output_path": "__notebook__.ipynb",
   "parameters": {},
   "start_time": "2022-06-26T07:44:01.890785",
   "version": "2.3.4"
  }
 },
 "nbformat": 4,
 "nbformat_minor": 5
}
