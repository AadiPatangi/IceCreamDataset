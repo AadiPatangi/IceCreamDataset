{
 "cells": [
  {
   "cell_type": "code",
   "execution_count": 1,
   "id": "8c733fee",
   "metadata": {
    "_cell_guid": "b1076dfc-b9ad-4769-8c92-a6c4dae69d19",
    "_uuid": "8f2839f25d086af736a60e9eeb907d3b93b6e0e5",
    "execution": {
     "iopub.execute_input": "2022-06-25T07:14:23.862955Z",
     "iopub.status.busy": "2022-06-25T07:14:23.861682Z",
     "iopub.status.idle": "2022-06-25T07:14:34.583112Z",
     "shell.execute_reply": "2022-06-25T07:14:34.581831Z"
    },
    "papermill": {
     "duration": 10.733509,
     "end_time": "2022-06-25T07:14:34.586905",
     "exception": false,
     "start_time": "2022-06-25T07:14:23.853396",
     "status": "completed"
    },
    "tags": []
   },
   "outputs": [],
   "source": [
    "# This Python 3 environment comes with many helpful analytics libraries installed\n",
    "# It is defined by the kaggle/python Docker image: https://github.com/kaggle/docker-python\n",
    "# For example, here's several helpful packages to load\n",
    "\n",
    "import numpy as np # linear algebra\n",
    "import pandas as pd # data processing, CSV file I/O (e.g. pd.read_csv)\n",
    "import tensorflow as tf\n",
    "from IPython.display import Image, display\n",
    "from keras.models import Sequential\n",
    "from keras.layers import Conv2D\n",
    "from keras.layers import MaxPooling2D\n",
    "from keras.layers import Flatten\n",
    "from keras.layers import Dense\n",
    "import matplotlib as plt\n",
    "import cv2 as cv\n",
    "from PIL import Image\n",
    "import os\n",
    "\n",
    "\n",
    "# Input data files are available in the read-only \"../input/\" directory\n",
    "# For example, running this (by clicking run or pressing Shift+Enter) will list all files under the input directory\n",
    "\n",
    "# import os\n",
    "# for dirname, _, filenames in os.walk('/kaggle/input'):\n",
    "#     for filename in filenames:\n",
    "#         print(os.path.join(dirname, filename))\n",
    "\n",
    "# You can write up to 20GB to the current directory (/kaggle/working/) that gets preserved as output when you create a version using \"Save & Run All\" \n",
    "# You can also write temporary files to /kaggle/temp/, but they won't be saved outside of the current session"
   ]
  },
  {
   "cell_type": "code",
   "execution_count": 2,
   "id": "ecbe128f",
   "metadata": {
    "execution": {
     "iopub.execute_input": "2022-06-25T07:14:34.599119Z",
     "iopub.status.busy": "2022-06-25T07:14:34.597962Z",
     "iopub.status.idle": "2022-06-25T07:14:35.293103Z",
     "shell.execute_reply": "2022-06-25T07:14:35.291540Z"
    },
    "papermill": {
     "duration": 0.703614,
     "end_time": "2022-06-25T07:14:35.295597",
     "exception": false,
     "start_time": "2022-06-25T07:14:34.591983",
     "status": "completed"
    },
    "tags": []
   },
   "outputs": [
    {
     "name": "stdout",
     "output_type": "stream",
     "text": [
      "Tensorflow version: 2.6.4\n",
      "Keras version: 2.6.0\n"
     ]
    }
   ],
   "source": [
    "\n",
    "print('Tensorflow version:', tf.__version__)\n",
    "print('Keras version:', tf.keras.__version__)"
   ]
  },
  {
   "cell_type": "code",
   "execution_count": 3,
   "id": "13b930c2",
   "metadata": {
    "execution": {
     "iopub.execute_input": "2022-06-25T07:14:35.307518Z",
     "iopub.status.busy": "2022-06-25T07:14:35.306511Z",
     "iopub.status.idle": "2022-06-25T07:14:35.316836Z",
     "shell.execute_reply": "2022-06-25T07:14:35.315437Z"
    },
    "papermill": {
     "duration": 0.019134,
     "end_time": "2022-06-25T07:14:35.319626",
     "exception": false,
     "start_time": "2022-06-25T07:14:35.300492",
     "status": "completed"
    },
    "tags": []
   },
   "outputs": [],
   "source": [
    "# Image('/kaggle/input/ice-cream-dataset/combined/images/1_breyers.png')\n",
    "# cv.imshow(\"a\",img)\n",
    "# cv.waitKey(0) \n",
    "# cv.destroyAllWindows() \n",
    "from IPython.display import HTML\n",
    "from base64 import b64encode\n",
    "\n",
    "def show_image(path_to_image, width=None, height=None):\n",
    "\n",
    "    mime_type = None\n",
    "    path_to_image = path_to_image.lower()\n",
    "\n",
    "    # More MIME types:\n",
    "    # https://developer.mozilla.org/en-US/docs/Web/HTTP/Basics_of_HTTP/MIME_types\n",
    "    if path_to_image.endswith('.jpg') or path_to_image.endswith('.jpeg'):\n",
    "        mime_type = 'image/jpeg'\n",
    "    elif path_to_image.endswith('.png'):\n",
    "        mime_type = 'image/png'\n",
    "    elif path_to_image.endswith('.gif'):\n",
    "        mime_type = 'image/gif'\n",
    "    else:\n",
    "        raise ValueError('Unknown extension: %s' % (path_to_image))\n",
    "\n",
    "    img = open(path_to_image, 'rb').read()\n",
    "    data_url = 'data:image/jpeg;base64,' + b64encode(img).decode()\n",
    "\n",
    "    width_str = \"width='%d'\" % (width) if width is not None else ''\n",
    "    height_str = \"height='%d'\" % (width) if height is not None else ''\n",
    "\n",
    "    display(HTML(\"<img src='%s' %s%s>\" % (data_url, width_str, height_str)))"
   ]
  },
  {
   "cell_type": "code",
   "execution_count": 4,
   "id": "9b58f971",
   "metadata": {
    "execution": {
     "iopub.execute_input": "2022-06-25T07:14:35.331137Z",
     "iopub.status.busy": "2022-06-25T07:14:35.330243Z",
     "iopub.status.idle": "2022-06-25T07:14:35.338606Z",
     "shell.execute_reply": "2022-06-25T07:14:35.337335Z"
    },
    "papermill": {
     "duration": 0.017929,
     "end_time": "2022-06-25T07:14:35.342160",
     "exception": false,
     "start_time": "2022-06-25T07:14:35.324231",
     "status": "completed"
    },
    "tags": []
   },
   "outputs": [
    {
     "name": "stdout",
     "output_type": "stream",
     "text": [
      "h\n"
     ]
    }
   ],
   "source": [
    "train_breyers = [\"../input/ice-cream-dataset/breyers/images/11_breyers.png\",\"../input/ice-cream-dataset/breyers/images/12_breyers.png\",\"../input/ice-cream-dataset/breyers/images/13_breyers.png\",\"../input/ice-cream-dataset/breyers/images/14_breyers.png\",\"../input/ice-cream-dataset/breyers/images/15_breyers.png\"]\n",
    "test_breyers = [\"../input/ice-cream-dataset/breyers/images/16_breyers.png\",\"../input/ice-cream-dataset/breyers/images/17_breyers.png\",\"../input/ice-cream-dataset/breyers/images/18_breyers.png\",\"../input/ice-cream-dataset/breyers/images/19_breyers.png\",\"../input/ice-cream-dataset/breyers/images/20_breyers.png\"]\n",
    "train_talenti = [\"../input/ice-cream-dataset/talenti/images/11_talenti.png\",\"../input/ice-cream-dataset/talenti/images/12_talenti.png\",\"../input/ice-cream-dataset/talenti/images/13_talenti.png\",\"../input/ice-cream-dataset/talenti/images/14_talenti.png\",\"../input/ice-cream-dataset/talenti/images/15_talenti.png\"]  \n",
    "test_talenti = [\"../input/ice-cream-dataset/talenti/images/16_talenti.png\",\"../input/ice-cream-dataset/talenti/images/17_talenti.png\",\"../input/ice-cream-dataset/talenti/images/18_talenti.png\",\"../input/ice-cream-dataset/talenti/images/19_talenti.png\",\"../input/ice-cream-dataset/talenti/images/20_talenti.png\",\"../input/ice-cream-dataset/talenti/images/21_talenti.png\"]\n",
    "print(\"h\")"
   ]
  },
  {
   "cell_type": "code",
   "execution_count": 5,
   "id": "683c23e1",
   "metadata": {
    "execution": {
     "iopub.execute_input": "2022-06-25T07:14:35.355231Z",
     "iopub.status.busy": "2022-06-25T07:14:35.354545Z",
     "iopub.status.idle": "2022-06-25T07:14:35.359521Z",
     "shell.execute_reply": "2022-06-25T07:14:35.358470Z"
    },
    "papermill": {
     "duration": 0.013786,
     "end_time": "2022-06-25T07:14:35.362070",
     "exception": false,
     "start_time": "2022-06-25T07:14:35.348284",
     "status": "completed"
    },
    "tags": []
   },
   "outputs": [],
   "source": [
    "#os.mkdir('/kaggle/working/output/breyers/images')\n",
    "#os.mkdir('/kaggle/working/proj0622/images/train')\n",
    "#os.mkdir('/kaggle/working/proj0622/images/test')"
   ]
  },
  {
   "cell_type": "code",
   "execution_count": 6,
   "id": "ffe49090",
   "metadata": {
    "execution": {
     "iopub.execute_input": "2022-06-25T07:14:35.373612Z",
     "iopub.status.busy": "2022-06-25T07:14:35.373118Z",
     "iopub.status.idle": "2022-06-25T07:14:35.512380Z",
     "shell.execute_reply": "2022-06-25T07:14:35.510160Z"
    },
    "papermill": {
     "duration": 0.149293,
     "end_time": "2022-06-25T07:14:35.516044",
     "exception": false,
     "start_time": "2022-06-25T07:14:35.366751",
     "status": "completed"
    },
    "tags": []
   },
   "outputs": [
    {
     "name": "stdout",
     "output_type": "stream",
     "text": [
      "/kaggle/working/proj0622/images/train/11_talenti.png\n",
      "/kaggle/working/proj0622/images/train/12_talenti.png\n",
      "/kaggle/working/proj0622/images/train/13_talenti.png\n",
      "/kaggle/working/proj0622/images/train/14_talenti.png\n",
      "/kaggle/working/proj0622/images/train/15_talenti.png\n"
     ]
    }
   ],
   "source": [
    "#img_re = {}\n",
    "dest = \"/kaggle/working/proj0622/images/train\"\n",
    "img_arr = train_talenti\n",
    "\n",
    "for i in range(0,len(img_arr)):\n",
    "    \n",
    "    image = cv.imread(img_arr[i])\n",
    "    gray = cv.cvtColor(image, cv.COLOR_BGR2GRAY)\n",
    "    \n",
    "    reshape_image = cv.resize(gray, (100, 100),interpolation = cv.INTER_NEAREST)\n",
    "    #img_re[i] = reshape_image\n",
    "    \n",
    "    head, tail = os.path.split(img_arr[i])\n",
    "    imgfile = dest+\"/\"+tail\n",
    "    print(imgfile)\n",
    "    cv.imwrite(imgfile,reshape_image)"
   ]
  },
  {
   "cell_type": "code",
   "execution_count": 7,
   "id": "ae9c2bbd",
   "metadata": {
    "execution": {
     "iopub.execute_input": "2022-06-25T07:14:35.543691Z",
     "iopub.status.busy": "2022-06-25T07:14:35.542697Z",
     "iopub.status.idle": "2022-06-25T07:14:35.643086Z",
     "shell.execute_reply": "2022-06-25T07:14:35.641525Z"
    },
    "papermill": {
     "duration": 0.110246,
     "end_time": "2022-06-25T07:14:35.645812",
     "exception": false,
     "start_time": "2022-06-25T07:14:35.535566",
     "status": "completed"
    },
    "tags": []
   },
   "outputs": [
    {
     "name": "stdout",
     "output_type": "stream",
     "text": [
      "/kaggle/working/proj0622/images/test/16_talenti.png\n",
      "/kaggle/working/proj0622/images/test/17_talenti.png\n",
      "/kaggle/working/proj0622/images/test/18_talenti.png\n",
      "/kaggle/working/proj0622/images/test/19_talenti.png\n",
      "/kaggle/working/proj0622/images/test/20_talenti.png\n",
      "/kaggle/working/proj0622/images/test/21_talenti.png\n"
     ]
    }
   ],
   "source": [
    "dest = \"/kaggle/working/proj0622/images/test\"\n",
    "img_arr = test_talenti\n",
    "\n",
    "for i in range(0,len(img_arr)):\n",
    "    \n",
    "    image = cv.imread(img_arr[i])\n",
    "    gray = cv.cvtColor(image, cv.COLOR_BGR2GRAY)\n",
    "    \n",
    "    reshape_image = cv.resize(gray, (100, 100),interpolation = cv.INTER_NEAREST)\n",
    "    #img_re[i] = reshape_image\n",
    "    \n",
    "    head, tail = os.path.split(img_arr[i])\n",
    "    imgfile = dest+\"/\"+tail\n",
    "    print(imgfile)\n",
    "    cv.imwrite(imgfile,reshape_image)"
   ]
  },
  {
   "cell_type": "code",
   "execution_count": 8,
   "id": "32c24456",
   "metadata": {
    "execution": {
     "iopub.execute_input": "2022-06-25T07:14:35.658030Z",
     "iopub.status.busy": "2022-06-25T07:14:35.657628Z",
     "iopub.status.idle": "2022-06-25T07:14:35.664179Z",
     "shell.execute_reply": "2022-06-25T07:14:35.663149Z"
    },
    "papermill": {
     "duration": 0.015838,
     "end_time": "2022-06-25T07:14:35.666651",
     "exception": false,
     "start_time": "2022-06-25T07:14:35.650813",
     "status": "completed"
    },
    "tags": []
   },
   "outputs": [],
   "source": [
    "#show_image('/kaggle/working/proj0622/images/train/13_talenti.png')"
   ]
  },
  {
   "cell_type": "code",
   "execution_count": 9,
   "id": "2244d4ff",
   "metadata": {
    "execution": {
     "iopub.execute_input": "2022-06-25T07:14:35.678678Z",
     "iopub.status.busy": "2022-06-25T07:14:35.678227Z",
     "iopub.status.idle": "2022-06-25T07:14:35.682249Z",
     "shell.execute_reply": "2022-06-25T07:14:35.681300Z"
    },
    "papermill": {
     "duration": 0.012837,
     "end_time": "2022-06-25T07:14:35.684514",
     "exception": false,
     "start_time": "2022-06-25T07:14:35.671677",
     "status": "completed"
    },
    "tags": []
   },
   "outputs": [],
   "source": [
    "#path ='/kaggle/working/proj0622/images/train/'\n",
    "#x = os.listdir(path)\n",
    "#for f in x:\n",
    "#    show_image(path + f)"
   ]
  },
  {
   "cell_type": "code",
   "execution_count": 10,
   "id": "6327fd94",
   "metadata": {
    "execution": {
     "iopub.execute_input": "2022-06-25T07:14:35.696283Z",
     "iopub.status.busy": "2022-06-25T07:14:35.695567Z",
     "iopub.status.idle": "2022-06-25T07:14:35.699535Z",
     "shell.execute_reply": "2022-06-25T07:14:35.698569Z"
    },
    "papermill": {
     "duration": 0.012406,
     "end_time": "2022-06-25T07:14:35.701763",
     "exception": false,
     "start_time": "2022-06-25T07:14:35.689357",
     "status": "completed"
    },
    "tags": []
   },
   "outputs": [],
   "source": [
    "#path ='/kaggle/working/proj0622/images/test/'\n",
    "#x = os.listdir(path)\n",
    "#for f in x:\n",
    "#    show_image(path + f)"
   ]
  },
  {
   "cell_type": "code",
   "execution_count": 11,
   "id": "410f1476",
   "metadata": {
    "execution": {
     "iopub.execute_input": "2022-06-25T07:14:35.713750Z",
     "iopub.status.busy": "2022-06-25T07:14:35.713111Z",
     "iopub.status.idle": "2022-06-25T07:14:35.716987Z",
     "shell.execute_reply": "2022-06-25T07:14:35.716198Z"
    },
    "papermill": {
     "duration": 0.012415,
     "end_time": "2022-06-25T07:14:35.719169",
     "exception": false,
     "start_time": "2022-06-25T07:14:35.706754",
     "status": "completed"
    },
    "tags": []
   },
   "outputs": [],
   "source": [
    "\n",
    "# model = tf.keras.models.Sequential([\n",
    "#     tf.keras.layers.Flatten(input_shape = (150,150,3)),\n",
    "#     tf.keras.layers.Dense(512,activation = \"relu\"),\n",
    "#     tf.keras.layers.Dense(2,activation=\"softmax\")\n",
    "    \n",
    "# ])\n",
    "# model.compile(loss = \"categorical_crossentropy\",optimizer = \"adam\",metrics=[\"accuracy\"])\n",
    "# #model.fit(...,epochs = 100)\n",
    "\n"
   ]
  },
  {
   "cell_type": "code",
   "execution_count": 12,
   "id": "aeff2899",
   "metadata": {
    "execution": {
     "iopub.execute_input": "2022-06-25T07:14:35.731460Z",
     "iopub.status.busy": "2022-06-25T07:14:35.730743Z",
     "iopub.status.idle": "2022-06-25T07:14:35.735763Z",
     "shell.execute_reply": "2022-06-25T07:14:35.734726Z"
    },
    "papermill": {
     "duration": 0.013854,
     "end_time": "2022-06-25T07:14:35.737943",
     "exception": false,
     "start_time": "2022-06-25T07:14:35.724089",
     "status": "completed"
    },
    "tags": []
   },
   "outputs": [
    {
     "name": "stdout",
     "output_type": "stream",
     "text": [
      "done\n"
     ]
    }
   ],
   "source": [
    "print('done')"
   ]
  }
 ],
 "metadata": {
  "kernelspec": {
   "display_name": "Python 3",
   "language": "python",
   "name": "python3"
  },
  "language_info": {
   "codemirror_mode": {
    "name": "ipython",
    "version": 3
   },
   "file_extension": ".py",
   "mimetype": "text/x-python",
   "name": "python",
   "nbconvert_exporter": "python",
   "pygments_lexer": "ipython3",
   "version": "3.7.12"
  },
  "papermill": {
   "default_parameters": {},
   "duration": 25.764842,
   "end_time": "2022-06-25T07:14:38.658543",
   "environment_variables": {},
   "exception": null,
   "input_path": "__notebook__.ipynb",
   "output_path": "__notebook__.ipynb",
   "parameters": {},
   "start_time": "2022-06-25T07:14:12.893701",
   "version": "2.3.4"
  }
 },
 "nbformat": 4,
 "nbformat_minor": 5
}
