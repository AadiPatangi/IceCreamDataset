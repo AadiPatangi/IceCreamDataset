{
 "cells": [
  {
   "cell_type": "code",
   "execution_count": 1,
   "id": "5303008c",
   "metadata": {
    "_cell_guid": "b1076dfc-b9ad-4769-8c92-a6c4dae69d19",
    "_uuid": "8f2839f25d086af736a60e9eeb907d3b93b6e0e5",
    "execution": {
     "iopub.execute_input": "2022-06-25T07:50:23.600523Z",
     "iopub.status.busy": "2022-06-25T07:50:23.599924Z",
     "iopub.status.idle": "2022-06-25T07:50:33.730372Z",
     "shell.execute_reply": "2022-06-25T07:50:33.729164Z"
    },
    "papermill": {
     "duration": 10.141162,
     "end_time": "2022-06-25T07:50:33.733399",
     "exception": false,
     "start_time": "2022-06-25T07:50:23.592237",
     "status": "completed"
    },
    "tags": []
   },
   "outputs": [],
   "source": [
    "# This Python 3 environment comes with many helpful analytics libraries installed\n",
    "# It is defined by the kaggle/python Docker image: https://github.com/kaggle/docker-python\n",
    "# For example, here's several helpful packages to load\n",
    "\n",
    "import numpy as np # linear algebra\n",
    "import pandas as pd # data processing, CSV file I/O (e.g. pd.read_csv)\n",
    "import tensorflow as tf\n",
    "from IPython.display import Image, display\n",
    "from keras.models import Sequential\n",
    "from keras.layers import Conv2D\n",
    "from keras.layers import MaxPooling2D\n",
    "from keras.layers import Flatten\n",
    "from keras.layers import Dense\n",
    "import matplotlib as plt\n",
    "import cv2 as cv\n",
    "from PIL import Image\n",
    "import os\n",
    "\n",
    "\n",
    "# Input data files are available in the read-only \"../input/\" directory\n",
    "# For example, running this (by clicking run or pressing Shift+Enter) will list all files under the input directory\n",
    "\n",
    "# import os\n",
    "# for dirname, _, filenames in os.walk('/kaggle/input'):\n",
    "#     for filename in filenames:\n",
    "#         print(os.path.join(dirname, filename))\n",
    "\n",
    "# You can write up to 20GB to the current directory (/kaggle/working/) that gets preserved as output when you create a version using \"Save & Run All\" \n",
    "# You can also write temporary files to /kaggle/temp/, but they won't be saved outside of the current session"
   ]
  },
  {
   "cell_type": "code",
   "execution_count": 2,
   "id": "bc428b38",
   "metadata": {
    "execution": {
     "iopub.execute_input": "2022-06-25T07:50:33.744383Z",
     "iopub.status.busy": "2022-06-25T07:50:33.743707Z",
     "iopub.status.idle": "2022-06-25T07:50:34.360773Z",
     "shell.execute_reply": "2022-06-25T07:50:34.359253Z"
    },
    "papermill": {
     "duration": 0.625377,
     "end_time": "2022-06-25T07:50:34.363330",
     "exception": false,
     "start_time": "2022-06-25T07:50:33.737953",
     "status": "completed"
    },
    "tags": []
   },
   "outputs": [
    {
     "name": "stdout",
     "output_type": "stream",
     "text": [
      "Tensorflow version: 2.6.4\n",
      "Keras version: 2.6.0\n"
     ]
    }
   ],
   "source": [
    "\n",
    "print('Tensorflow version:', tf.__version__)\n",
    "print('Keras version:', tf.keras.__version__)"
   ]
  },
  {
   "cell_type": "code",
   "execution_count": 3,
   "id": "771f1528",
   "metadata": {
    "execution": {
     "iopub.execute_input": "2022-06-25T07:50:34.374319Z",
     "iopub.status.busy": "2022-06-25T07:50:34.373940Z",
     "iopub.status.idle": "2022-06-25T07:50:34.383753Z",
     "shell.execute_reply": "2022-06-25T07:50:34.382680Z"
    },
    "papermill": {
     "duration": 0.018329,
     "end_time": "2022-06-25T07:50:34.386163",
     "exception": false,
     "start_time": "2022-06-25T07:50:34.367834",
     "status": "completed"
    },
    "tags": []
   },
   "outputs": [],
   "source": [
    "# Image('/kaggle/input/ice-cream-dataset/combined/images/1_breyers.png')\n",
    "# cv.imshow(\"a\",img)\n",
    "# cv.waitKey(0) \n",
    "# cv.destroyAllWindows() \n",
    "from IPython.display import HTML\n",
    "from base64 import b64encode\n",
    "\n",
    "def show_image(path_to_image, width=None, height=None):\n",
    "\n",
    "    mime_type = None\n",
    "    path_to_image = path_to_image.lower()\n",
    "\n",
    "    # More MIME types:\n",
    "    # https://developer.mozilla.org/en-US/docs/Web/HTTP/Basics_of_HTTP/MIME_types\n",
    "    if path_to_image.endswith('.jpg') or path_to_image.endswith('.jpeg'):\n",
    "        mime_type = 'image/jpeg'\n",
    "    elif path_to_image.endswith('.png'):\n",
    "        mime_type = 'image/png'\n",
    "    elif path_to_image.endswith('.gif'):\n",
    "        mime_type = 'image/gif'\n",
    "    else:\n",
    "        raise ValueError('Unknown extension: %s' % (path_to_image))\n",
    "\n",
    "    img = open(path_to_image, 'rb').read()\n",
    "    data_url = 'data:image/jpeg;base64,' + b64encode(img).decode()\n",
    "\n",
    "    width_str = \"width='%d'\" % (width) if width is not None else ''\n",
    "    height_str = \"height='%d'\" % (width) if height is not None else ''\n",
    "\n",
    "    display(HTML(\"<img src='%s' %s%s>\" % (data_url, width_str, height_str)))"
   ]
  },
  {
   "cell_type": "code",
   "execution_count": 4,
   "id": "b42b50c3",
   "metadata": {
    "execution": {
     "iopub.execute_input": "2022-06-25T07:50:34.397393Z",
     "iopub.status.busy": "2022-06-25T07:50:34.397004Z",
     "iopub.status.idle": "2022-06-25T07:50:34.404784Z",
     "shell.execute_reply": "2022-06-25T07:50:34.403655Z"
    },
    "papermill": {
     "duration": 0.016495,
     "end_time": "2022-06-25T07:50:34.407202",
     "exception": false,
     "start_time": "2022-06-25T07:50:34.390707",
     "status": "completed"
    },
    "tags": []
   },
   "outputs": [
    {
     "name": "stdout",
     "output_type": "stream",
     "text": [
      "h\n"
     ]
    }
   ],
   "source": [
    "train_breyers = [\"../input/ice-cream-dataset/breyers/images/11_breyers.png\",\"../input/ice-cream-dataset/breyers/images/12_breyers.png\",\"../input/ice-cream-dataset/breyers/images/13_breyers.png\",\"../input/ice-cream-dataset/breyers/images/14_breyers.png\",\"../input/ice-cream-dataset/breyers/images/15_breyers.png\"]\n",
    "test_breyers = [\"../input/ice-cream-dataset/breyers/images/16_breyers.png\",\"../input/ice-cream-dataset/breyers/images/17_breyers.png\",\"../input/ice-cream-dataset/breyers/images/18_breyers.png\",\"../input/ice-cream-dataset/breyers/images/19_breyers.png\",\"../input/ice-cream-dataset/breyers/images/20_breyers.png\"]\n",
    "train_talenti = [\"../input/ice-cream-dataset/talenti/images/11_talenti.png\",\"../input/ice-cream-dataset/talenti/images/12_talenti.png\",\"../input/ice-cream-dataset/talenti/images/13_talenti.png\",\"../input/ice-cream-dataset/talenti/images/14_talenti.png\",\"../input/ice-cream-dataset/talenti/images/15_talenti.png\"]  \n",
    "test_talenti = [\"../input/ice-cream-dataset/talenti/images/16_talenti.png\",\"../input/ice-cream-dataset/talenti/images/17_talenti.png\",\"../input/ice-cream-dataset/talenti/images/18_talenti.png\",\"../input/ice-cream-dataset/talenti/images/19_talenti.png\",\"../input/ice-cream-dataset/talenti/images/20_talenti.png\",\"../input/ice-cream-dataset/talenti/images/21_talenti.png\"]\n",
    "print(\"h\")"
   ]
  },
  {
   "cell_type": "code",
   "execution_count": 5,
   "id": "6d311b00",
   "metadata": {
    "execution": {
     "iopub.execute_input": "2022-06-25T07:50:34.418207Z",
     "iopub.status.busy": "2022-06-25T07:50:34.417834Z",
     "iopub.status.idle": "2022-06-25T07:50:34.421537Z",
     "shell.execute_reply": "2022-06-25T07:50:34.420692Z"
    },
    "papermill": {
     "duration": 0.011753,
     "end_time": "2022-06-25T07:50:34.423561",
     "exception": false,
     "start_time": "2022-06-25T07:50:34.411808",
     "status": "completed"
    },
    "tags": []
   },
   "outputs": [],
   "source": [
    "#os.mkdir('/kaggle/working/output/breyers/images')\n",
    "#os.mkdir('/kaggle/working/proj0622/images/train')\n",
    "#os.mkdir('/kaggle/working/proj0622/images/test')"
   ]
  },
  {
   "cell_type": "code",
   "execution_count": 6,
   "id": "46aabc4b",
   "metadata": {
    "execution": {
     "iopub.execute_input": "2022-06-25T07:50:34.434276Z",
     "iopub.status.busy": "2022-06-25T07:50:34.433902Z",
     "iopub.status.idle": "2022-06-25T07:50:34.553591Z",
     "shell.execute_reply": "2022-06-25T07:50:34.552066Z"
    },
    "papermill": {
     "duration": 0.128399,
     "end_time": "2022-06-25T07:50:34.556455",
     "exception": false,
     "start_time": "2022-06-25T07:50:34.428056",
     "status": "completed"
    },
    "tags": []
   },
   "outputs": [
    {
     "name": "stdout",
     "output_type": "stream",
     "text": [
      "/kaggle/working/proj0622/images/train/11_talenti.png\n",
      "/kaggle/working/proj0622/images/train/12_talenti.png\n",
      "/kaggle/working/proj0622/images/train/13_talenti.png\n",
      "/kaggle/working/proj0622/images/train/14_talenti.png\n",
      "/kaggle/working/proj0622/images/train/15_talenti.png\n"
     ]
    }
   ],
   "source": [
    "#img_re = {}\n",
    "dest = \"/kaggle/working/proj0622/images/train\"\n",
    "img_arr = train_talenti\n",
    "\n",
    "for i in range(0,len(img_arr)):\n",
    "    \n",
    "    image = cv.imread(img_arr[i])\n",
    "    gray = cv.cvtColor(image, cv.COLOR_BGR2GRAY)\n",
    "    \n",
    "    reshape_image = cv.resize(gray, (100, 100),interpolation = cv.INTER_NEAREST)\n",
    "    #img_re[i] = reshape_image\n",
    "    \n",
    "    head, tail = os.path.split(img_arr[i])\n",
    "    imgfile = dest+\"/\"+tail\n",
    "    print(imgfile)\n",
    "    cv.imwrite(imgfile,reshape_image)"
   ]
  },
  {
   "cell_type": "code",
   "execution_count": 7,
   "id": "ae70f783",
   "metadata": {
    "execution": {
     "iopub.execute_input": "2022-06-25T07:50:34.568399Z",
     "iopub.status.busy": "2022-06-25T07:50:34.567267Z",
     "iopub.status.idle": "2022-06-25T07:50:34.651506Z",
     "shell.execute_reply": "2022-06-25T07:50:34.650028Z"
    },
    "papermill": {
     "duration": 0.093331,
     "end_time": "2022-06-25T07:50:34.654538",
     "exception": false,
     "start_time": "2022-06-25T07:50:34.561207",
     "status": "completed"
    },
    "tags": []
   },
   "outputs": [
    {
     "name": "stdout",
     "output_type": "stream",
     "text": [
      "/kaggle/working/proj0622/images/test/16_talenti.png\n",
      "/kaggle/working/proj0622/images/test/17_talenti.png\n",
      "/kaggle/working/proj0622/images/test/18_talenti.png\n",
      "/kaggle/working/proj0622/images/test/19_talenti.png\n",
      "/kaggle/working/proj0622/images/test/20_talenti.png\n",
      "/kaggle/working/proj0622/images/test/21_talenti.png\n"
     ]
    }
   ],
   "source": [
    "dest = \"/kaggle/working/proj0622/images/test\"\n",
    "img_arr = test_talenti\n",
    "\n",
    "for i in range(0,len(img_arr)):\n",
    "    \n",
    "    image = cv.imread(img_arr[i])\n",
    "    gray = cv.cvtColor(image, cv.COLOR_BGR2GRAY)\n",
    "    \n",
    "    reshape_image = cv.resize(gray, (100, 100),interpolation = cv.INTER_NEAREST)\n",
    "    #img_re[i] = reshape_image\n",
    "    \n",
    "    head, tail = os.path.split(img_arr[i])\n",
    "    imgfile = dest+\"/\"+tail\n",
    "    print(imgfile)\n",
    "    cv.imwrite(imgfile,reshape_image)"
   ]
  },
  {
   "cell_type": "code",
   "execution_count": 8,
   "id": "dce882ba",
   "metadata": {
    "execution": {
     "iopub.execute_input": "2022-06-25T07:50:34.668462Z",
     "iopub.status.busy": "2022-06-25T07:50:34.667214Z",
     "iopub.status.idle": "2022-06-25T07:50:34.673428Z",
     "shell.execute_reply": "2022-06-25T07:50:34.672358Z"
    },
    "papermill": {
     "duration": 0.015636,
     "end_time": "2022-06-25T07:50:34.675882",
     "exception": false,
     "start_time": "2022-06-25T07:50:34.660246",
     "status": "completed"
    },
    "tags": []
   },
   "outputs": [],
   "source": [
    "#show_image('/kaggle/working/proj0622/images/train/13_talenti.png')"
   ]
  },
  {
   "cell_type": "code",
   "execution_count": 9,
   "id": "402b8b48",
   "metadata": {
    "execution": {
     "iopub.execute_input": "2022-06-25T07:50:34.687743Z",
     "iopub.status.busy": "2022-06-25T07:50:34.687106Z",
     "iopub.status.idle": "2022-06-25T07:50:34.692830Z",
     "shell.execute_reply": "2022-06-25T07:50:34.691140Z"
    },
    "papermill": {
     "duration": 0.014693,
     "end_time": "2022-06-25T07:50:34.695438",
     "exception": false,
     "start_time": "2022-06-25T07:50:34.680745",
     "status": "completed"
    },
    "tags": []
   },
   "outputs": [],
   "source": [
    "#path ='/kaggle/working/proj0622/images/train/'\n",
    "#x = os.listdir(path)\n",
    "#for f in x:\n",
    "#    show_image(path + f)"
   ]
  },
  {
   "cell_type": "code",
   "execution_count": 10,
   "id": "298a4450",
   "metadata": {
    "execution": {
     "iopub.execute_input": "2022-06-25T07:50:34.710392Z",
     "iopub.status.busy": "2022-06-25T07:50:34.709763Z",
     "iopub.status.idle": "2022-06-25T07:50:34.715327Z",
     "shell.execute_reply": "2022-06-25T07:50:34.714219Z"
    },
    "papermill": {
     "duration": 0.015835,
     "end_time": "2022-06-25T07:50:34.717693",
     "exception": false,
     "start_time": "2022-06-25T07:50:34.701858",
     "status": "completed"
    },
    "tags": []
   },
   "outputs": [],
   "source": [
    "#path ='/kaggle/working/proj0622/images/test/'\n",
    "#x = os.listdir(path)\n",
    "#for f in x:\n",
    "#    show_image(path + f)"
   ]
  },
  {
   "cell_type": "code",
   "execution_count": 11,
   "id": "eb0ff4b3",
   "metadata": {
    "execution": {
     "iopub.execute_input": "2022-06-25T07:50:34.731668Z",
     "iopub.status.busy": "2022-06-25T07:50:34.730142Z",
     "iopub.status.idle": "2022-06-25T07:50:34.735616Z",
     "shell.execute_reply": "2022-06-25T07:50:34.734712Z"
    },
    "papermill": {
     "duration": 0.01452,
     "end_time": "2022-06-25T07:50:34.737721",
     "exception": false,
     "start_time": "2022-06-25T07:50:34.723201",
     "status": "completed"
    },
    "tags": []
   },
   "outputs": [],
   "source": [
    "\n",
    "# model = tf.keras.models.Sequential([\n",
    "#     tf.keras.layers.Flatten(input_shape = (150,150,3)),\n",
    "#     tf.keras.layers.Dense(512,activation = \"relu\"),\n",
    "#     tf.keras.layers.Dense(2,activation=\"softmax\")\n",
    "    \n",
    "# ])\n",
    "# model.compile(loss = \"categorical_crossentropy\",optimizer = \"adam\",metrics=[\"accuracy\"])\n",
    "# #model.fit(...,epochs = 100)\n",
    "\n"
   ]
  },
  {
   "cell_type": "code",
   "execution_count": 12,
   "id": "e4a46563",
   "metadata": {
    "execution": {
     "iopub.execute_input": "2022-06-25T07:50:34.749393Z",
     "iopub.status.busy": "2022-06-25T07:50:34.748693Z",
     "iopub.status.idle": "2022-06-25T07:50:34.753897Z",
     "shell.execute_reply": "2022-06-25T07:50:34.752669Z"
    },
    "papermill": {
     "duration": 0.01372,
     "end_time": "2022-06-25T07:50:34.756138",
     "exception": false,
     "start_time": "2022-06-25T07:50:34.742418",
     "status": "completed"
    },
    "tags": []
   },
   "outputs": [
    {
     "name": "stdout",
     "output_type": "stream",
     "text": [
      "done\n"
     ]
    }
   ],
   "source": [
    "print('done')"
   ]
  }
 ],
 "metadata": {
  "kernelspec": {
   "display_name": "Python 3",
   "language": "python",
   "name": "python3"
  },
  "language_info": {
   "codemirror_mode": {
    "name": "ipython",
    "version": 3
   },
   "file_extension": ".py",
   "mimetype": "text/x-python",
   "name": "python",
   "nbconvert_exporter": "python",
   "pygments_lexer": "ipython3",
   "version": "3.7.12"
  },
  "papermill": {
   "default_parameters": {},
   "duration": 24.635068,
   "end_time": "2022-06-25T07:50:37.831074",
   "environment_variables": {},
   "exception": null,
   "input_path": "__notebook__.ipynb",
   "output_path": "__notebook__.ipynb",
   "parameters": {},
   "start_time": "2022-06-25T07:50:13.196006",
   "version": "2.3.4"
  }
 },
 "nbformat": 4,
 "nbformat_minor": 5
}
