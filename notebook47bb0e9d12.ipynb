{
 "cells": [
  {
   "cell_type": "code",
   "execution_count": 1,
   "id": "1f7214c9",
   "metadata": {
    "_cell_guid": "b1076dfc-b9ad-4769-8c92-a6c4dae69d19",
    "_uuid": "8f2839f25d086af736a60e9eeb907d3b93b6e0e5",
    "execution": {
     "iopub.execute_input": "2022-06-25T22:50:19.324176Z",
     "iopub.status.busy": "2022-06-25T22:50:19.323532Z",
     "iopub.status.idle": "2022-06-25T22:50:30.525859Z",
     "shell.execute_reply": "2022-06-25T22:50:30.524586Z"
    },
    "papermill": {
     "duration": 11.214849,
     "end_time": "2022-06-25T22:50:30.529196",
     "exception": false,
     "start_time": "2022-06-25T22:50:19.314347",
     "status": "completed"
    },
    "tags": []
   },
   "outputs": [],
   "source": [
    "\n",
    "# This Python 3 environment comes with many helpful analytics libraries installed\n",
    "# It is defined by the kaggle/python Docker image: https://github.com/kaggle/docker-python\n",
    "# For example, here's several helpful packages to load\n",
    "\n",
    "import os\n",
    "\n",
    "import numpy as np # linear algebra\n",
    "import pandas as pd # data processing, CSV file I/O (e.g. pd.read_csv)\n",
    "\n",
    "import tensorflow as tf\n",
    "import keras\n",
    "from keras.models import Sequential\n",
    "from keras.layers import Dense, Conv2D , MaxPool2D , Flatten , Dropout \n",
    "from keras.preprocessing.image import ImageDataGenerator\n",
    "from tensorflow.keras.optimizers import Adam\n",
    "\n",
    "from sklearn.metrics import classification_report,confusion_matrix\n",
    "\n",
    "import cv2\n",
    "\n",
    "import matplotlib.pyplot as plt\n",
    "import matplotlib.image as mpimg\n",
    "import seaborn as sns\n",
    "\n",
    "from PIL import Image\n",
    "from IPython.display import Image, display\n",
    "\n",
    "\n",
    "\n",
    "\n",
    "# Input data files are available in the read-only \"../input/\" directory\n",
    "# For example, running this (by clicking run or pressing Shift+Enter) will list all files under the input directory\n",
    "\n",
    "# import os\n",
    "# for dirname, _, filenames in os.walk('/kaggle/input'):\n",
    "#     for filename in filenames:\n",
    "#         print(os.path.join(dirname, filename))\n",
    "\n",
    "# You can write up to 20GB to the current directory (/kaggle/working/) that gets preserved as output when you create a version using \"Save & Run All\" \n",
    "# You can also write temporary files to /kaggle/temp/, but they won't be saved outside of the current session"
   ]
  },
  {
   "cell_type": "code",
   "execution_count": 2,
   "id": "674de857",
   "metadata": {
    "execution": {
     "iopub.execute_input": "2022-06-25T22:50:30.543650Z",
     "iopub.status.busy": "2022-06-25T22:50:30.542968Z",
     "iopub.status.idle": "2022-06-25T22:50:30.549476Z",
     "shell.execute_reply": "2022-06-25T22:50:30.548211Z"
    },
    "papermill": {
     "duration": 0.01684,
     "end_time": "2022-06-25T22:50:30.552295",
     "exception": false,
     "start_time": "2022-06-25T22:50:30.535455",
     "status": "completed"
    },
    "tags": []
   },
   "outputs": [
    {
     "name": "stdout",
     "output_type": "stream",
     "text": [
      "Tensorflow version: 2.6.4\n",
      "Keras version: 2.6.0\n"
     ]
    }
   ],
   "source": [
    "print('Tensorflow version:', tf.__version__)\n",
    "print('Keras version:', tf.keras.__version__)"
   ]
  },
  {
   "cell_type": "code",
   "execution_count": 3,
   "id": "e3a04830",
   "metadata": {
    "execution": {
     "iopub.execute_input": "2022-06-25T22:50:30.565888Z",
     "iopub.status.busy": "2022-06-25T22:50:30.565490Z",
     "iopub.status.idle": "2022-06-25T22:50:30.571549Z",
     "shell.execute_reply": "2022-06-25T22:50:30.570414Z"
    },
    "papermill": {
     "duration": 0.015491,
     "end_time": "2022-06-25T22:50:30.573890",
     "exception": false,
     "start_time": "2022-06-25T22:50:30.558399",
     "status": "completed"
    },
    "tags": []
   },
   "outputs": [],
   "source": [
    "def create_dir(path):\n",
    "    if  os.path.exists(path) != True:\n",
    "        os.mkdir(path)\n",
    "        print(path+\" -> created\")\n",
    "    else:\n",
    "        print(path+\" -> exists\")"
   ]
  },
  {
   "cell_type": "code",
   "execution_count": 4,
   "id": "e91436d5",
   "metadata": {
    "execution": {
     "iopub.execute_input": "2022-06-25T22:50:30.587379Z",
     "iopub.status.busy": "2022-06-25T22:50:30.586972Z",
     "iopub.status.idle": "2022-06-25T22:50:30.594335Z",
     "shell.execute_reply": "2022-06-25T22:50:30.593386Z"
    },
    "papermill": {
     "duration": 0.016906,
     "end_time": "2022-06-25T22:50:30.596714",
     "exception": false,
     "start_time": "2022-06-25T22:50:30.579808",
     "status": "completed"
    },
    "tags": []
   },
   "outputs": [
    {
     "name": "stdout",
     "output_type": "stream",
     "text": [
      "/kaggle/working/proj0622 -> created\n",
      "/kaggle/working/proj0622/train -> created\n",
      "/kaggle/working/proj0622/test -> created\n",
      "/kaggle/working/proj0622/train/bj -> created\n",
      "/kaggle/working/proj0622/train/breyers -> created\n",
      "/kaggle/working/proj0622/train/hd -> created\n",
      "/kaggle/working/proj0622/train/talenti -> created\n",
      "/kaggle/working/proj0622/test/bj -> created\n",
      "/kaggle/working/proj0622/test/breyers -> created\n",
      "/kaggle/working/proj0622/test/hd -> created\n",
      "/kaggle/working/proj0622/test/talenti -> created\n"
     ]
    }
   ],
   "source": [
    "create_dir('/kaggle/working/proj0622')\n",
    "create_dir('/kaggle/working/proj0622/train')\n",
    "create_dir('/kaggle/working/proj0622/test')\n",
    "create_dir('/kaggle/working/proj0622/train/bj')\n",
    "create_dir('/kaggle/working/proj0622/train/breyers')\n",
    "create_dir('/kaggle/working/proj0622/train/hd')\n",
    "create_dir('/kaggle/working/proj0622/train/talenti')\n",
    "create_dir('/kaggle/working/proj0622/test/bj')\n",
    "create_dir('/kaggle/working/proj0622/test/breyers')\n",
    "create_dir('/kaggle/working/proj0622/test/hd')\n",
    "create_dir('/kaggle/working/proj0622/test/talenti')\n"
   ]
  },
  {
   "cell_type": "code",
   "execution_count": 5,
   "id": "b4f19c05",
   "metadata": {
    "execution": {
     "iopub.execute_input": "2022-06-25T22:50:30.610152Z",
     "iopub.status.busy": "2022-06-25T22:50:30.609766Z",
     "iopub.status.idle": "2022-06-25T22:50:30.619323Z",
     "shell.execute_reply": "2022-06-25T22:50:30.618210Z"
    },
    "papermill": {
     "duration": 0.018833,
     "end_time": "2022-06-25T22:50:30.621480",
     "exception": false,
     "start_time": "2022-06-25T22:50:30.602647",
     "status": "completed"
    },
    "tags": []
   },
   "outputs": [],
   "source": [
    "import shutil\n",
    "\n",
    "src_root= '../input/ice-cream-dataset'\n",
    "dest_train = '/kaggle/working/proj0622/train'\n",
    "dest_test = '/kaggle/working/proj0622/test'\n",
    "\n",
    "def copy_images_to_work(brand, cnt):\n",
    "    \n",
    "    files = os.listdir(src_root+'/'+brand +'/images')\n",
    "    i=0\n",
    "    for f in files:\n",
    "        \n",
    "        src = src_root+'/'+brand +'/images/'+f\n",
    "        i = i + 1\n",
    "    \n",
    "        if i <= cnt :\n",
    "            \n",
    "            des = dest_train+'/'+brand+'/'+f\n",
    "     \n",
    "            if os.path.isfile(des) != True:\n",
    "                shutil.copyfile(src, des)\n",
    "                print(des+ '-> copied')\n",
    "            else:\n",
    "                print(des+' -> exists')\n",
    "                \n",
    "        else:\n",
    "            \n",
    "            des = dest_test+'/'+brand+'/'+f\n",
    "     \n",
    "            if os.path.isfile(des) != True:\n",
    "                shutil.copyfile(src, des)  \n",
    "                print(des+ '-> copied')\n",
    "            else:\n",
    "                print(des+' -> exists')\n",
    "                    "
   ]
  },
  {
   "cell_type": "code",
   "execution_count": 6,
   "id": "211c58c9",
   "metadata": {
    "execution": {
     "iopub.execute_input": "2022-06-25T22:50:30.635019Z",
     "iopub.status.busy": "2022-06-25T22:50:30.634471Z",
     "iopub.status.idle": "2022-06-25T22:50:31.800372Z",
     "shell.execute_reply": "2022-06-25T22:50:31.799459Z"
    },
    "papermill": {
     "duration": 1.175862,
     "end_time": "2022-06-25T22:50:31.803216",
     "exception": false,
     "start_time": "2022-06-25T22:50:30.627354",
     "status": "completed"
    },
    "tags": []
   },
   "outputs": [
    {
     "name": "stdout",
     "output_type": "stream",
     "text": [
      "/kaggle/working/proj0622/train/bj/23_bj.png-> copied\n",
      "/kaggle/working/proj0622/train/bj/44_bj.png-> copied\n",
      "/kaggle/working/proj0622/train/bj/19_bj.png-> copied\n",
      "/kaggle/working/proj0622/train/bj/17_bj.png-> copied\n",
      "/kaggle/working/proj0622/train/bj/31_bj.png-> copied\n",
      "/kaggle/working/proj0622/train/bj/7_bj.png-> copied\n",
      "/kaggle/working/proj0622/train/bj/18_bj.png-> copied\n",
      "/kaggle/working/proj0622/train/bj/2_bj.png-> copied\n",
      "/kaggle/working/proj0622/train/bj/13_bj.png-> copied\n",
      "/kaggle/working/proj0622/train/bj/6_bj.png-> copied\n",
      "/kaggle/working/proj0622/train/bj/20_bj.png-> copied\n",
      "/kaggle/working/proj0622/train/bj/10_bj.png-> copied\n",
      "/kaggle/working/proj0622/train/bj/37_bj.png-> copied\n",
      "/kaggle/working/proj0622/train/bj/25_bj.png-> copied\n",
      "/kaggle/working/proj0622/train/bj/14_bj.png-> copied\n",
      "/kaggle/working/proj0622/train/bj/51_bj.png-> copied\n",
      "/kaggle/working/proj0622/train/bj/15_bj.png-> copied\n",
      "/kaggle/working/proj0622/train/bj/3_bj.png-> copied\n",
      "/kaggle/working/proj0622/train/bj/41_bj.png-> copied\n",
      "/kaggle/working/proj0622/train/bj/54_bj.png-> copied\n",
      "/kaggle/working/proj0622/train/bj/30_bj.png-> copied\n",
      "/kaggle/working/proj0622/train/bj/0_bj.png-> copied\n",
      "/kaggle/working/proj0622/train/bj/26_bj.png-> copied\n",
      "/kaggle/working/proj0622/train/bj/34_bj.png-> copied\n",
      "/kaggle/working/proj0622/train/bj/55_bj.png-> copied\n",
      "/kaggle/working/proj0622/train/bj/1_bj.png-> copied\n",
      "/kaggle/working/proj0622/train/bj/24_bj.png-> copied\n",
      "/kaggle/working/proj0622/train/bj/33_bj.png-> copied\n",
      "/kaggle/working/proj0622/train/bj/28_bj.png-> copied\n",
      "/kaggle/working/proj0622/train/bj/56_bj.png-> copied\n",
      "/kaggle/working/proj0622/train/bj/39_bj.png-> copied\n",
      "/kaggle/working/proj0622/train/bj/8_bj.png-> copied\n",
      "/kaggle/working/proj0622/train/bj/4_bj.png-> copied\n",
      "/kaggle/working/proj0622/train/bj/50_bj.png-> copied\n",
      "/kaggle/working/proj0622/train/bj/32_bj.png-> copied\n",
      "/kaggle/working/proj0622/train/bj/48_bj.png-> copied\n",
      "/kaggle/working/proj0622/train/bj/38_bj.png-> copied\n",
      "/kaggle/working/proj0622/train/bj/40_bj.png-> copied\n",
      "/kaggle/working/proj0622/train/bj/42_bj.png-> copied\n",
      "/kaggle/working/proj0622/train/bj/47_bj.png-> copied\n",
      "/kaggle/working/proj0622/train/bj/53_bj.png-> copied\n",
      "/kaggle/working/proj0622/test/bj/46_bj.png-> copied\n",
      "/kaggle/working/proj0622/test/bj/35_bj.png-> copied\n",
      "/kaggle/working/proj0622/test/bj/5_bj.png-> copied\n",
      "/kaggle/working/proj0622/test/bj/43_bj.png-> copied\n",
      "/kaggle/working/proj0622/test/bj/45_bj.png-> copied\n",
      "/kaggle/working/proj0622/test/bj/16_bj.png-> copied\n",
      "/kaggle/working/proj0622/test/bj/11_bj.png-> copied\n",
      "/kaggle/working/proj0622/test/bj/52_bj.png-> copied\n",
      "/kaggle/working/proj0622/test/bj/21_bj.png-> copied\n",
      "/kaggle/working/proj0622/test/bj/22_bj.png-> copied\n",
      "/kaggle/working/proj0622/test/bj/29_bj.png-> copied\n",
      "/kaggle/working/proj0622/test/bj/12_bj.png-> copied\n",
      "/kaggle/working/proj0622/test/bj/27_bj.png-> copied\n",
      "/kaggle/working/proj0622/test/bj/36_bj.png-> copied\n",
      "/kaggle/working/proj0622/train/breyers/9_breyers.png-> copied\n",
      "/kaggle/working/proj0622/train/breyers/40_breyers.png-> copied\n",
      "/kaggle/working/proj0622/train/breyers/14_breyers.png-> copied\n",
      "/kaggle/working/proj0622/train/breyers/35_breyers.png-> copied\n",
      "/kaggle/working/proj0622/train/breyers/22_breyers.png-> copied\n",
      "/kaggle/working/proj0622/train/breyers/45_breyers.png-> copied\n",
      "/kaggle/working/proj0622/train/breyers/30_breyers.png-> copied\n",
      "/kaggle/working/proj0622/train/breyers/20_breyers.png-> copied\n",
      "/kaggle/working/proj0622/train/breyers/49_breyers.png-> copied\n",
      "/kaggle/working/proj0622/train/breyers/7_breyers.png-> copied\n",
      "/kaggle/working/proj0622/train/breyers/38_breyers.png-> copied\n",
      "/kaggle/working/proj0622/train/breyers/31_breyers.png-> copied\n",
      "/kaggle/working/proj0622/train/breyers/21_breyers.png-> copied\n",
      "/kaggle/working/proj0622/train/breyers/50_breyers.png-> copied\n",
      "/kaggle/working/proj0622/train/breyers/13_breyers.png-> copied\n",
      "/kaggle/working/proj0622/train/breyers/5_breyers.png-> copied\n",
      "/kaggle/working/proj0622/train/breyers/8_breyers.png-> copied\n",
      "/kaggle/working/proj0622/train/breyers/2_breyers.png-> copied\n",
      "/kaggle/working/proj0622/train/breyers/41_breyers.png-> copied\n",
      "/kaggle/working/proj0622/train/breyers/24_breyers.png-> copied\n",
      "/kaggle/working/proj0622/train/breyers/66_breyers.png-> copied\n",
      "/kaggle/working/proj0622/train/breyers/23_breyers.png-> copied\n",
      "/kaggle/working/proj0622/train/breyers/44_breyers.png-> copied\n",
      "/kaggle/working/proj0622/train/breyers/43_breyers.png-> copied\n",
      "/kaggle/working/proj0622/train/breyers/12_breyers.png-> copied\n",
      "/kaggle/working/proj0622/train/breyers/18_breyers.png-> copied\n",
      "/kaggle/working/proj0622/train/breyers/34_breyers.png-> copied\n",
      "/kaggle/working/proj0622/train/breyers/27_breyers.png-> copied\n",
      "/kaggle/working/proj0622/train/breyers/19_breyers.png-> copied\n",
      "/kaggle/working/proj0622/train/breyers/60_breyers.png-> copied\n",
      "/kaggle/working/proj0622/train/breyers/65_breyers.png-> copied\n",
      "/kaggle/working/proj0622/train/breyers/52_breyers.png-> copied\n",
      "/kaggle/working/proj0622/train/breyers/37_breyers.png-> copied\n",
      "/kaggle/working/proj0622/train/breyers/4_breyers.png-> copied\n",
      "/kaggle/working/proj0622/train/breyers/10_breyers.png-> copied\n",
      "/kaggle/working/proj0622/train/breyers/48_breyers.png-> copied\n",
      "/kaggle/working/proj0622/train/breyers/61_breyers.png-> copied\n",
      "/kaggle/working/proj0622/train/breyers/25_breyers.png-> copied\n",
      "/kaggle/working/proj0622/train/breyers/68_breyers.png-> copied\n",
      "/kaggle/working/proj0622/train/breyers/54_breyers.png-> copied\n",
      "/kaggle/working/proj0622/train/breyers/55_breyers.png-> copied\n",
      "/kaggle/working/proj0622/train/breyers/56_breyers.png-> copied\n",
      "/kaggle/working/proj0622/train/breyers/64_breyers.png-> copied\n",
      "/kaggle/working/proj0622/train/breyers/32_breyers.png-> copied\n",
      "/kaggle/working/proj0622/train/breyers/51_breyers.png-> copied\n",
      "/kaggle/working/proj0622/train/breyers/62_breyers.png-> copied\n",
      "/kaggle/working/proj0622/train/breyers/58_breyers.png-> copied\n",
      "/kaggle/working/proj0622/train/breyers/63_breyers.png-> copied\n",
      "/kaggle/working/proj0622/train/breyers/26_breyers.png-> copied\n",
      "/kaggle/working/proj0622/train/breyers/11_breyers.png-> copied\n",
      "/kaggle/working/proj0622/train/breyers/59_breyers.png-> copied\n",
      "/kaggle/working/proj0622/test/breyers/33_breyers.png-> copied\n",
      "/kaggle/working/proj0622/test/breyers/67_breyers.png-> copied\n",
      "/kaggle/working/proj0622/test/breyers/29_breyers.png-> copied\n",
      "/kaggle/working/proj0622/test/breyers/39_breyers.png-> copied\n",
      "/kaggle/working/proj0622/test/breyers/3_breyers.png-> copied\n",
      "/kaggle/working/proj0622/test/breyers/16_breyers.png-> copied\n",
      "/kaggle/working/proj0622/test/breyers/17_breyers.png-> copied\n",
      "/kaggle/working/proj0622/test/breyers/15_breyers.png-> copied\n",
      "/kaggle/working/proj0622/test/breyers/0_breyers.png-> copied\n",
      "/kaggle/working/proj0622/test/breyers/46_breyers.png-> copied\n",
      "/kaggle/working/proj0622/test/breyers/6_breyers.png-> copied\n",
      "/kaggle/working/proj0622/test/breyers/47_breyers.png-> copied\n",
      "/kaggle/working/proj0622/test/breyers/36_breyers.png-> copied\n",
      "/kaggle/working/proj0622/test/breyers/28_breyers.png-> copied\n",
      "/kaggle/working/proj0622/test/breyers/57_breyers.png-> copied\n",
      "/kaggle/working/proj0622/test/breyers/42_breyers.png-> copied\n",
      "/kaggle/working/proj0622/test/breyers/53_breyers.png-> copied\n",
      "/kaggle/working/proj0622/test/breyers/1_breyers.png-> copied\n",
      "/kaggle/working/proj0622/train/hd/50_hd.png-> copied\n",
      "/kaggle/working/proj0622/train/hd/37_hd.png-> copied\n",
      "/kaggle/working/proj0622/train/hd/67_hd.png-> copied\n",
      "/kaggle/working/proj0622/train/hd/42_hd.png-> copied\n",
      "/kaggle/working/proj0622/train/hd/26_hd.png-> copied\n",
      "/kaggle/working/proj0622/train/hd/62_hd.png-> copied\n",
      "/kaggle/working/proj0622/train/hd/36_hd.png-> copied\n",
      "/kaggle/working/proj0622/train/hd/16_hd.png-> copied\n",
      "/kaggle/working/proj0622/train/hd/14_hd.png-> copied\n",
      "/kaggle/working/proj0622/train/hd/22_hd.png-> copied\n",
      "/kaggle/working/proj0622/train/hd/61_hd.png-> copied\n",
      "/kaggle/working/proj0622/train/hd/3_hd.png-> copied\n",
      "/kaggle/working/proj0622/train/hd/34_hd.png-> copied\n",
      "/kaggle/working/proj0622/train/hd/49_hd.png-> copied\n",
      "/kaggle/working/proj0622/train/hd/27_hd.png-> copied\n",
      "/kaggle/working/proj0622/train/hd/4_hd.png-> copied\n",
      "/kaggle/working/proj0622/train/hd/63_hd.png-> copied\n",
      "/kaggle/working/proj0622/train/hd/53_hd.png-> copied\n",
      "/kaggle/working/proj0622/train/hd/0_hd.png-> copied\n",
      "/kaggle/working/proj0622/train/hd/28_hd.png-> copied\n",
      "/kaggle/working/proj0622/train/hd/30_hd.png-> copied\n",
      "/kaggle/working/proj0622/train/hd/6_hd.png-> copied\n",
      "/kaggle/working/proj0622/train/hd/24_hd.png-> copied\n",
      "/kaggle/working/proj0622/train/hd/64_hd.png-> copied\n",
      "/kaggle/working/proj0622/train/hd/60_hd.png-> copied\n",
      "/kaggle/working/proj0622/train/hd/11_hd.png-> copied\n",
      "/kaggle/working/proj0622/train/hd/43_hd.png-> copied\n",
      "/kaggle/working/proj0622/train/hd/38_hd.png-> copied\n",
      "/kaggle/working/proj0622/train/hd/59_hd.png-> copied\n",
      "/kaggle/working/proj0622/train/hd/15_hd.png-> copied\n",
      "/kaggle/working/proj0622/train/hd/45_hd.png-> copied\n",
      "/kaggle/working/proj0622/train/hd/32_hd.png-> copied\n",
      "/kaggle/working/proj0622/train/hd/23_hd.png-> copied\n",
      "/kaggle/working/proj0622/train/hd/57_hd.png-> copied\n",
      "/kaggle/working/proj0622/train/hd/18_hd.png-> copied\n",
      "/kaggle/working/proj0622/train/hd/66_hd.png-> copied\n",
      "/kaggle/working/proj0622/train/hd/55_hd.png-> copied\n",
      "/kaggle/working/proj0622/train/hd/69_hd.png-> copied\n",
      "/kaggle/working/proj0622/train/hd/12_hd.png-> copied\n",
      "/kaggle/working/proj0622/train/hd/47_hd.png-> copied\n",
      "/kaggle/working/proj0622/train/hd/52_hd.png-> copied\n",
      "/kaggle/working/proj0622/train/hd/7_hd.png-> copied\n",
      "/kaggle/working/proj0622/train/hd/68_hd.png-> copied\n",
      "/kaggle/working/proj0622/train/hd/1_hd.png-> copied\n",
      "/kaggle/working/proj0622/train/hd/51_hd.png-> copied\n",
      "/kaggle/working/proj0622/train/hd/65_hd.png-> copied\n",
      "/kaggle/working/proj0622/train/hd/33_hd.png-> copied\n",
      "/kaggle/working/proj0622/train/hd/21_hd.png-> copied\n",
      "/kaggle/working/proj0622/train/hd/29_hd.png-> copied\n",
      "/kaggle/working/proj0622/train/hd/48_hd.png-> copied\n",
      "/kaggle/working/proj0622/train/hd/31_hd.png-> copied\n",
      "/kaggle/working/proj0622/test/hd/19_hd.png-> copied\n",
      "/kaggle/working/proj0622/test/hd/13_hd.png-> copied\n",
      "/kaggle/working/proj0622/test/hd/20_hd.png-> copied\n",
      "/kaggle/working/proj0622/test/hd/41_hd.png-> copied\n",
      "/kaggle/working/proj0622/test/hd/17_hd.png-> copied\n",
      "/kaggle/working/proj0622/test/hd/44_hd.png-> copied\n",
      "/kaggle/working/proj0622/test/hd/9_hd.png-> copied\n",
      "/kaggle/working/proj0622/test/hd/5_hd.png-> copied\n",
      "/kaggle/working/proj0622/test/hd/25_hd.png-> copied\n",
      "/kaggle/working/proj0622/test/hd/46_hd.png-> copied\n",
      "/kaggle/working/proj0622/test/hd/54_hd.png-> copied\n",
      "/kaggle/working/proj0622/test/hd/8_hd.png-> copied\n",
      "/kaggle/working/proj0622/test/hd/58_hd.png-> copied\n",
      "/kaggle/working/proj0622/test/hd/2_hd.png-> copied\n",
      "/kaggle/working/proj0622/test/hd/56_hd.png-> copied\n",
      "/kaggle/working/proj0622/test/hd/35_hd.png-> copied\n",
      "/kaggle/working/proj0622/test/hd/39_hd.png-> copied\n",
      "/kaggle/working/proj0622/test/hd/10_hd.png-> copied\n",
      "/kaggle/working/proj0622/test/hd/40_hd.png-> copied\n",
      "/kaggle/working/proj0622/train/talenti/7_talenti.png-> copied\n",
      "/kaggle/working/proj0622/train/talenti/38_talenti.png-> copied\n",
      "/kaggle/working/proj0622/train/talenti/36_talenti.png-> copied\n",
      "/kaggle/working/proj0622/train/talenti/9_talenti.png-> copied\n",
      "/kaggle/working/proj0622/train/talenti/43_talenti.png-> copied\n",
      "/kaggle/working/proj0622/train/talenti/39_talenti.png-> copied\n",
      "/kaggle/working/proj0622/train/talenti/33_talenti.png-> copied\n",
      "/kaggle/working/proj0622/train/talenti/25_talenti.png-> copied\n",
      "/kaggle/working/proj0622/train/talenti/3_talenti.png-> copied\n",
      "/kaggle/working/proj0622/train/talenti/28_talenti.png-> copied\n",
      "/kaggle/working/proj0622/train/talenti/11_talenti.png-> copied\n",
      "/kaggle/working/proj0622/train/talenti/19_talenti.png-> copied\n",
      "/kaggle/working/proj0622/train/talenti/13_talenti.png-> copied\n",
      "/kaggle/working/proj0622/train/talenti/30_talenti.png-> copied\n",
      "/kaggle/working/proj0622/train/talenti/31_talenti.png-> copied\n",
      "/kaggle/working/proj0622/train/talenti/23_talenti.png-> copied\n",
      "/kaggle/working/proj0622/train/talenti/44_talenti.png-> copied\n",
      "/kaggle/working/proj0622/train/talenti/35_talenti.png-> copied\n",
      "/kaggle/working/proj0622/train/talenti/26_talenti.png-> copied\n",
      "/kaggle/working/proj0622/train/talenti/22_talenti.png-> copied\n",
      "/kaggle/working/proj0622/train/talenti/4_talenti.png-> copied\n",
      "/kaggle/working/proj0622/train/talenti/42_talenti.png-> copied\n",
      "/kaggle/working/proj0622/train/talenti/14_talenti.png-> copied\n",
      "/kaggle/working/proj0622/train/talenti/41_talenti.png-> copied\n",
      "/kaggle/working/proj0622/train/talenti/12_talenti.png-> copied\n",
      "/kaggle/working/proj0622/train/talenti/34_talenti.png-> copied\n",
      "/kaggle/working/proj0622/train/talenti/8_talenti.png-> copied\n",
      "/kaggle/working/proj0622/train/talenti/6_talenti.png-> copied\n",
      "/kaggle/working/proj0622/train/talenti/15_talenti.png-> copied\n",
      "/kaggle/working/proj0622/train/talenti/10_talenti.png-> copied\n",
      "/kaggle/working/proj0622/train/talenti/32_talenti.png-> copied\n",
      "/kaggle/working/proj0622/test/talenti/1_talenti.png-> copied\n",
      "/kaggle/working/proj0622/test/talenti/37_talenti.png-> copied\n",
      "/kaggle/working/proj0622/test/talenti/18_talenti.png-> copied\n",
      "/kaggle/working/proj0622/test/talenti/40_talenti.png-> copied\n",
      "/kaggle/working/proj0622/test/talenti/5_talenti.png-> copied\n",
      "/kaggle/working/proj0622/test/talenti/24_talenti.png-> copied\n",
      "/kaggle/working/proj0622/test/talenti/21_talenti.png-> copied\n",
      "/kaggle/working/proj0622/test/talenti/0_talenti.png-> copied\n",
      "/kaggle/working/proj0622/test/talenti/29_talenti.png-> copied\n",
      "/kaggle/working/proj0622/test/talenti/2_talenti.png-> copied\n",
      "/kaggle/working/proj0622/test/talenti/17_talenti.png-> copied\n",
      "/kaggle/working/proj0622/test/talenti/16_talenti.png-> copied\n",
      "/kaggle/working/proj0622/test/talenti/27_talenti.png-> copied\n",
      "/kaggle/working/proj0622/test/talenti/20_talenti.png-> copied\n"
     ]
    }
   ],
   "source": [
    "copy_images_to_work('bj',41)\n",
    "copy_images_to_work('breyers',51)\n",
    "copy_images_to_work('hd',51)\n",
    "copy_images_to_work('talenti',31)"
   ]
  },
  {
   "cell_type": "code",
   "execution_count": 7,
   "id": "f648d59d",
   "metadata": {
    "execution": {
     "iopub.execute_input": "2022-06-25T22:50:31.829306Z",
     "iopub.status.busy": "2022-06-25T22:50:31.828618Z",
     "iopub.status.idle": "2022-06-25T22:50:31.836253Z",
     "shell.execute_reply": "2022-06-25T22:50:31.835337Z"
    },
    "papermill": {
     "duration": 0.023721,
     "end_time": "2022-06-25T22:50:31.838986",
     "exception": false,
     "start_time": "2022-06-25T22:50:31.815265",
     "status": "completed"
    },
    "tags": []
   },
   "outputs": [],
   "source": [
    "def create_images(target_dir, source_arr):\n",
    "    for i in range(0,len(source_arr)):\n",
    "    \n",
    "        image = cv.imread(source_arr[i])\n",
    "        gray = cv.cvtColor(image, cv.COLOR_BGR2GRAY)\n",
    "    \n",
    "        reshape_image = cv.resize(gray, (100, 100),interpolation = cv.INTER_NEAREST)\n",
    "    \n",
    "    \n",
    "        head, tail = os.path.split(source_arr[i])\n",
    "        imgfile = target_dir + \"/\" + tail\n",
    "            \n",
    "        if os.path.isfile(imgfile) != True:\n",
    "            \n",
    "            cv.imwrite(imgfile,reshape_image)                \n",
    "            print(\"created: \"+ imgfile)\n",
    "            \n",
    "        else: \n",
    "            print(\"Exists: \"+ imgfile)\n",
    "    "
   ]
  },
  {
   "cell_type": "code",
   "execution_count": 8,
   "id": "2e1889b9",
   "metadata": {
    "execution": {
     "iopub.execute_input": "2022-06-25T22:50:31.863449Z",
     "iopub.status.busy": "2022-06-25T22:50:31.862491Z",
     "iopub.status.idle": "2022-06-25T22:50:32.097158Z",
     "shell.execute_reply": "2022-06-25T22:50:32.095856Z"
    },
    "papermill": {
     "duration": 0.249364,
     "end_time": "2022-06-25T22:50:32.100384",
     "exception": false,
     "start_time": "2022-06-25T22:50:31.851020",
     "status": "completed"
    },
    "tags": []
   },
   "outputs": [
    {
     "data": {
      "image/png": "[encoded data removed]",
      "text/plain": [
       "<Figure size 432x288 with 1 Axes>"
      ]
     },
     "metadata": {
      "needs_background": "light"
     },
     "output_type": "display_data"
    }
   ],
   "source": [
    "img = mpimg.imread('/kaggle/working/proj0622/train/bj/13_bj.png')\n",
    "\n",
    "imgplot = plt.imshow(img)\n",
    "plt.show()"
   ]
  },
  {
   "cell_type": "code",
   "execution_count": 9,
   "id": "aa162b6d",
   "metadata": {
    "execution": {
     "iopub.execute_input": "2022-06-25T22:50:32.120350Z",
     "iopub.status.busy": "2022-06-25T22:50:32.118908Z",
     "iopub.status.idle": "2022-06-25T22:50:32.128588Z",
     "shell.execute_reply": "2022-06-25T22:50:32.127813Z"
    },
    "papermill": {
     "duration": 0.021674,
     "end_time": "2022-06-25T22:50:32.130801",
     "exception": false,
     "start_time": "2022-06-25T22:50:32.109127",
     "status": "completed"
    },
    "tags": []
   },
   "outputs": [],
   "source": [
    "labels = ['bj','breyers','hd','talenti']\n",
    "IMG_SIZE = 32\n",
    "\n",
    "IMG_HEIGHT = IMG_SIZE\n",
    "IMG_WIDTH  = IMG_SIZE\n",
    "\n",
    "def get_data(data_dir):\n",
    "    data = []\n",
    "    clas = []\n",
    "    for label in labels: \n",
    "        path = os.path.join(data_dir, label)\n",
    "      \n",
    "        class_num = labels.index(label)\n",
    "        for img in os.listdir(path):\n",
    "            try:\n",
    "                img_arr = cv2.imread(os.path.join(path, img))[...,::-1] #convert BGR to RGB format\n",
    "                resized_arr = cv2.resize(img_arr, (IMG_HEIGHT, IMG_WIDTH)) # Reshaping images to preferred size\n",
    "                data.append(resized_arr)\n",
    "                clas.append(class_num)\n",
    "            except Exception as e:\n",
    "                print(e)\n",
    "    #return np.array(data,dtype = \"object\")\n",
    "    return data,clas"
   ]
  },
  {
   "cell_type": "code",
   "execution_count": 10,
   "id": "4884e7b1",
   "metadata": {
    "execution": {
     "iopub.execute_input": "2022-06-25T22:50:32.150134Z",
     "iopub.status.busy": "2022-06-25T22:50:32.149031Z",
     "iopub.status.idle": "2022-06-25T22:50:33.563366Z",
     "shell.execute_reply": "2022-06-25T22:50:33.562202Z"
    },
    "papermill": {
     "duration": 1.42674,
     "end_time": "2022-06-25T22:50:33.566032",
     "exception": false,
     "start_time": "2022-06-25T22:50:32.139292",
     "status": "completed"
    },
    "tags": []
   },
   "outputs": [],
   "source": [
    "img_train,clas_train = get_data('/kaggle/working/proj0622/train')"
   ]
  },
  {
   "cell_type": "code",
   "execution_count": 11,
   "id": "af1cbdde",
   "metadata": {
    "execution": {
     "iopub.execute_input": "2022-06-25T22:50:33.584522Z",
     "iopub.status.busy": "2022-06-25T22:50:33.584146Z",
     "iopub.status.idle": "2022-06-25T22:50:34.166456Z",
     "shell.execute_reply": "2022-06-25T22:50:34.165340Z"
    },
    "papermill": {
     "duration": 0.594648,
     "end_time": "2022-06-25T22:50:34.169166",
     "exception": false,
     "start_time": "2022-06-25T22:50:33.574518",
     "status": "completed"
    },
    "tags": []
   },
   "outputs": [],
   "source": [
    "img_test,clas_test = get_data('/kaggle/working/proj0622/test')"
   ]
  },
  {
   "cell_type": "code",
   "execution_count": 12,
   "id": "2304c4d4",
   "metadata": {
    "execution": {
     "iopub.execute_input": "2022-06-25T22:50:34.187860Z",
     "iopub.status.busy": "2022-06-25T22:50:34.187490Z",
     "iopub.status.idle": "2022-06-25T22:50:34.367778Z",
     "shell.execute_reply": "2022-06-25T22:50:34.366550Z"
    },
    "papermill": {
     "duration": 0.192372,
     "end_time": "2022-06-25T22:50:34.370142",
     "exception": false,
     "start_time": "2022-06-25T22:50:34.177770",
     "status": "completed"
    },
    "tags": []
   },
   "outputs": [
    {
     "name": "stdout",
     "output_type": "stream",
     "text": [
      "(32, 32, 3)\n"
     ]
    },
    {
     "data": {
      "image/png": "[encoded data removed]",
      "text/plain": [
       "<Figure size 432x288 with 1 Axes>"
      ]
     },
     "metadata": {
      "needs_background": "light"
     },
     "output_type": "display_data"
    }
   ],
   "source": [
    "data = np.asarray(img_train[10])\n",
    "print(data.shape)\n",
    "imgplot = plt.imshow(data)\n",
    "plt.show()"
   ]
  },
  {
   "cell_type": "code",
   "execution_count": 13,
   "id": "30d64b59",
   "metadata": {
    "execution": {
     "iopub.execute_input": "2022-06-25T22:50:34.389384Z",
     "iopub.status.busy": "2022-06-25T22:50:34.388910Z",
     "iopub.status.idle": "2022-06-25T22:50:34.571200Z",
     "shell.execute_reply": "2022-06-25T22:50:34.570079Z"
    },
    "papermill": {
     "duration": 0.194629,
     "end_time": "2022-06-25T22:50:34.573531",
     "exception": false,
     "start_time": "2022-06-25T22:50:34.378902",
     "status": "completed"
    },
    "tags": []
   },
   "outputs": [
    {
     "name": "stdout",
     "output_type": "stream",
     "text": [
      "(32, 32, 3)\n"
     ]
    },
    {
     "data": {
      "image/png": "[encoded data removed]",
      "text/plain": [
       "<Figure size 432x288 with 1 Axes>"
      ]
     },
     "metadata": {
      "needs_background": "light"
     },
     "output_type": "display_data"
    }
   ],
   "source": [
    "data = np.asarray(img_test[10])\n",
    "print(data.shape)\n",
    "imgplot = plt.imshow(data)\n",
    "plt.show()"
   ]
  },
  {
   "cell_type": "code",
   "execution_count": 14,
   "id": "75f1ec9d",
   "metadata": {
    "execution": {
     "iopub.execute_input": "2022-06-25T22:50:34.593142Z",
     "iopub.status.busy": "2022-06-25T22:50:34.592762Z",
     "iopub.status.idle": "2022-06-25T22:50:34.598601Z",
     "shell.execute_reply": "2022-06-25T22:50:34.597639Z"
    },
    "papermill": {
     "duration": 0.018423,
     "end_time": "2022-06-25T22:50:34.600890",
     "exception": false,
     "start_time": "2022-06-25T22:50:34.582467",
     "status": "completed"
    },
    "tags": []
   },
   "outputs": [],
   "source": [
    "img_train  = np.asarray(img_train)\n",
    "clas_train = np.asarray(clas_train)\n",
    "img_test   = np.asarray(img_test)\n",
    "clas_test  = np.asarray(clas_test)"
   ]
  },
  {
   "cell_type": "code",
   "execution_count": 15,
   "id": "d99d6be1",
   "metadata": {
    "execution": {
     "iopub.execute_input": "2022-06-25T22:50:34.620567Z",
     "iopub.status.busy": "2022-06-25T22:50:34.620199Z",
     "iopub.status.idle": "2022-06-25T22:50:34.627949Z",
     "shell.execute_reply": "2022-06-25T22:50:34.627043Z"
    },
    "papermill": {
     "duration": 0.020255,
     "end_time": "2022-06-25T22:50:34.630244",
     "exception": false,
     "start_time": "2022-06-25T22:50:34.609989",
     "status": "completed"
    },
    "tags": []
   },
   "outputs": [],
   "source": [
    "img_train = img_train / 255.0\n",
    "img_test = img_test / 255.0"
   ]
  },
  {
   "cell_type": "code",
   "execution_count": 16,
   "id": "0baaacce",
   "metadata": {
    "execution": {
     "iopub.execute_input": "2022-06-25T22:50:34.651254Z",
     "iopub.status.busy": "2022-06-25T22:50:34.650143Z",
     "iopub.status.idle": "2022-06-25T22:50:34.656172Z",
     "shell.execute_reply": "2022-06-25T22:50:34.654840Z"
    },
    "papermill": {
     "duration": 0.020578,
     "end_time": "2022-06-25T22:50:34.660212",
     "exception": false,
     "start_time": "2022-06-25T22:50:34.639634",
     "status": "completed"
    },
    "tags": []
   },
   "outputs": [
    {
     "name": "stdout",
     "output_type": "stream",
     "text": [
      "float64\n",
      "float64\n"
     ]
    }
   ],
   "source": [
    "print(img_train.dtype)\n",
    "print(img_test.dtype)"
   ]
  },
  {
   "cell_type": "code",
   "execution_count": 17,
   "id": "76b4d834",
   "metadata": {
    "execution": {
     "iopub.execute_input": "2022-06-25T22:50:34.682230Z",
     "iopub.status.busy": "2022-06-25T22:50:34.681817Z",
     "iopub.status.idle": "2022-06-25T22:50:36.527422Z",
     "shell.execute_reply": "2022-06-25T22:50:36.526206Z"
    },
    "papermill": {
     "duration": 1.859403,
     "end_time": "2022-06-25T22:50:36.530263",
     "exception": false,
     "start_time": "2022-06-25T22:50:34.670860",
     "status": "completed"
    },
    "tags": []
   },
   "outputs": [
    {
     "name": "stderr",
     "output_type": "stream",
     "text": [
      "2022-06-25 22:50:34.737727: I tensorflow/core/common_runtime/process_util.cc:146] Creating new thread pool with default inter op setting: 2. Tune using inter_op_parallelism_threads for best performance.\n",
      "2022-06-25 22:50:34.909946: I tensorflow/compiler/mlir/mlir_graph_optimization_pass.cc:185] None of the MLIR Optimization Passes are enabled (registered 2)\n"
     ]
    },
    {
     "name": "stdout",
     "output_type": "stream",
     "text": [
      "Epoch 1/10\n",
      "6/6 [==============================] - 1s 53ms/step - loss: 2.6890 - accuracy: 0.5920 - val_loss: 2.1425 - val_accuracy: 0.5846\n",
      "Epoch 2/10\n",
      "6/6 [==============================] - 0s 14ms/step - loss: 1.1062 - accuracy: 0.6839 - val_loss: 0.2482 - val_accuracy: 0.8923\n",
      "Epoch 3/10\n",
      "6/6 [==============================] - 0s 14ms/step - loss: 0.1967 - accuracy: 0.9310 - val_loss: 0.0553 - val_accuracy: 0.9846\n",
      "Epoch 4/10\n",
      "6/6 [==============================] - 0s 14ms/step - loss: 0.1150 - accuracy: 0.9655 - val_loss: 0.1252 - val_accuracy: 0.9538\n",
      "Epoch 5/10\n",
      "6/6 [==============================] - 0s 14ms/step - loss: 0.0426 - accuracy: 0.9885 - val_loss: 0.2115 - val_accuracy: 0.9077\n",
      "Epoch 6/10\n",
      "6/6 [==============================] - 0s 16ms/step - loss: 0.0252 - accuracy: 0.9943 - val_loss: 0.1127 - val_accuracy: 0.9538\n",
      "Epoch 7/10\n",
      "6/6 [==============================] - 0s 14ms/step - loss: 0.0131 - accuracy: 0.9943 - val_loss: 0.0776 - val_accuracy: 0.9692\n",
      "Epoch 8/10\n",
      "6/6 [==============================] - 0s 13ms/step - loss: 0.0104 - accuracy: 0.9943 - val_loss: 0.0669 - val_accuracy: 0.9692\n",
      "Epoch 9/10\n",
      "6/6 [==============================] - 0s 14ms/step - loss: 0.0082 - accuracy: 1.0000 - val_loss: 0.0678 - val_accuracy: 0.9692\n",
      "Epoch 10/10\n",
      "6/6 [==============================] - 0s 14ms/step - loss: 0.0066 - accuracy: 1.0000 - val_loss: 0.0754 - val_accuracy: 0.9692\n"
     ]
    }
   ],
   "source": [
    "\n",
    "def make_model():\n",
    "      model = keras.Sequential([\n",
    "         keras.layers.Flatten(input_shape=(IMG_HEIGHT, IMG_WIDTH, 3)),\n",
    "         keras.layers.Dense(512, activation='relu'),\n",
    "         keras.layers.Dense(4)\n",
    "      ])\n",
    "      model.compile(optimizer='adam',\n",
    "                   loss=tf.keras.losses.SparseCategoricalCrossentropy(from_logits=True),\n",
    "                   metrics=['accuracy'])\n",
    "      return model\n",
    "\n",
    "model=make_model()\n",
    "#history = model.fit(istrain, isclas, epochs=10)\n",
    "history = model.fit(img_train,clas_train,epochs = 10 , validation_data = (img_test, clas_test))"
   ]
  },
  {
   "cell_type": "code",
   "execution_count": 18,
   "id": "8b77c915",
   "metadata": {
    "execution": {
     "iopub.execute_input": "2022-06-25T22:50:36.554138Z",
     "iopub.status.busy": "2022-06-25T22:50:36.553694Z",
     "iopub.status.idle": "2022-06-25T22:50:36.894161Z",
     "shell.execute_reply": "2022-06-25T22:50:36.893327Z"
    },
    "papermill": {
     "duration": 0.354921,
     "end_time": "2022-06-25T22:50:36.896097",
     "exception": false,
     "start_time": "2022-06-25T22:50:36.541176",
     "status": "completed"
    },
    "tags": []
   },
   "outputs": [
    {
     "data": {
      "image/png": "[encoded data removed]",
      "text/plain": [
       "<Figure size 1080x1080 with 2 Axes>"
      ]
     },
     "metadata": {
      "needs_background": "light"
     },
     "output_type": "display_data"
    }
   ],
   "source": [
    "acc = history.history['accuracy']\n",
    "val_acc = history.history['val_accuracy']\n",
    "loss = history.history['loss']\n",
    "val_loss = history.history['val_loss']\n",
    "\n",
    "epochs_range = range(10)\n",
    "\n",
    "plt.figure(figsize=(15, 15))\n",
    "plt.subplot(2, 2, 1)\n",
    "plt.plot(epochs_range, acc, label='Training Accuracy')\n",
    "plt.plot(epochs_range, val_acc, label='Validation Accuracy')\n",
    "plt.legend(loc='lower right')\n",
    "plt.title('Training and Validation Accuracy')\n",
    "\n",
    "plt.subplot(2, 2, 2)\n",
    "plt.plot(epochs_range, loss, label='Training Loss')\n",
    "plt.plot(epochs_range, val_loss, label='Validation Loss')\n",
    "plt.legend(loc='upper right')\n",
    "plt.title('Training and Validation Loss')\n",
    "plt.show()"
   ]
  },
  {
   "cell_type": "code",
   "execution_count": 19,
   "id": "68ec908e",
   "metadata": {
    "execution": {
     "iopub.execute_input": "2022-06-25T22:50:36.922147Z",
     "iopub.status.busy": "2022-06-25T22:50:36.921251Z",
     "iopub.status.idle": "2022-06-25T22:50:36.927495Z",
     "shell.execute_reply": "2022-06-25T22:50:36.926247Z"
    },
    "papermill": {
     "duration": 0.021666,
     "end_time": "2022-06-25T22:50:36.929766",
     "exception": false,
     "start_time": "2022-06-25T22:50:36.908100",
     "status": "completed"
    },
    "tags": []
   },
   "outputs": [
    {
     "name": "stdout",
     "output_type": "stream",
     "text": [
      "Done!!\n"
     ]
    }
   ],
   "source": [
    "print('Done!!')"
   ]
  }
 ],
 "metadata": {
  "kernelspec": {
   "display_name": "Python 3",
   "language": "python",
   "name": "python3"
  },
  "language_info": {
   "codemirror_mode": {
    "name": "ipython",
    "version": 3
   },
   "file_extension": ".py",
   "mimetype": "text/x-python",
   "name": "python",
   "nbconvert_exporter": "python",
   "pygments_lexer": "ipython3",
   "version": "3.7.12"
  },
  "papermill": {
   "default_parameters": {},
   "duration": 30.64029,
   "end_time": "2022-06-25T22:50:40.022734",
   "environment_variables": {},
   "exception": null,
   "input_path": "__notebook__.ipynb",
   "output_path": "__notebook__.ipynb",
   "parameters": {},
   "start_time": "2022-06-25T22:50:09.382444",
   "version": "2.3.4"
  }
 },
 "nbformat": 4,
 "nbformat_minor": 5
}
